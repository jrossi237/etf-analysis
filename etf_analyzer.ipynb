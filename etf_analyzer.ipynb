{
 "cells": [
  {
   "cell_type": "markdown",
   "metadata": {},
   "source": [
    "# Create a Web Application for an ETF Analyzer\n",
    "\n",
    "In this Challenge assignment, you’ll build a financial database and web application by using SQL, Python, and the Voilà library to analyze the performance of a hypothetical fintech ETF.\n",
    "\n",
    "Instructions: \n",
    "\n",
    "Use this notebook to complete your analysis of a fintech ETF that consists of four stocks: GOST, GS, PYPL, and SQ. Each stock has its own table in the `etf.db` database, which the `Starter_Code` folder also contains.\n",
    "\n",
    "Analyze the daily returns of the ETF stocks both individually and as a whole. Then deploy the visualizations to a web application by using the Voilà library.\n",
    "\n",
    "The detailed instructions are divided into the following parts:\n",
    "\n",
    "* Analyze a single asset in the ETF\n",
    "\n",
    "* Optimize data access with Advanced SQL queries\n",
    "\n",
    "* Analyze the ETF portfolio\n",
    "\n",
    "* Deploy the notebook as a web application\n",
    "\n",
    "#### Analyze a Single Asset in the ETF\n",
    "\n",
    "For this part of the assignment, you’ll use SQL queries with Python, Pandas, and hvPlot to analyze the performance of a single asset from the ETF.\n",
    "\n",
    "Complete the following steps:\n",
    "\n",
    "1. Write a SQL `SELECT` statement by using an f-string that reads all the PYPL data from the database. Using the SQL `SELECT` statement, execute a query that reads the PYPL data from the database into a Pandas DataFrame.\n",
    "\n",
    "2. Use the `head` and `tail` functions to review the first five and the last five rows of the DataFrame. Make a note of the beginning and end dates that are available from this dataset. You’ll use this information to complete your analysis.\n",
    "\n",
    "3. Using hvPlot, create an interactive visualization for the PYPL daily returns. Reflect the “time” column of the DataFrame on the x-axis. Make sure that you professionally style and format your visualization to enhance its readability.\n",
    "\n",
    "4. Using hvPlot, create an interactive visualization for the PYPL cumulative returns. Reflect the “time” column of the DataFrame on the x-axis. Make sure that you professionally style and format your visualization to enhance its readability.\n",
    "\n",
    "#### Optimize Data Access with Advanced SQL Queries\n",
    "\n",
    "For this part of the assignment, you’ll continue to analyze a single asset (PYPL) from the ETF. You’ll use advanced SQL queries to optimize the efficiency of accessing data from the database.\n",
    "\n",
    "Complete the following steps:\n",
    "\n",
    "1. Access the closing prices for PYPL that are greater than 200 by completing the following steps:\n",
    "\n",
    "    - Write a SQL `SELECT` statement to select the dates where the PYPL closing price was higher than 200.0.\n",
    "\n",
    "    - Using the SQL statement, read the data from the database into a Pandas DataFrame, and then review the resulting DataFrame.\n",
    "\n",
    "    - Select the “time” and “close” columns for those dates where the closing price was higher than 200.0.\n",
    "\n",
    "2. Find the top 10 daily returns for PYPL by completing the following steps:\n",
    "\n",
    "    -  Write a SQL statement to find the top 10 PYPL daily returns. Make sure to do the following:\n",
    "\n",
    "        * Use `SELECT` to select only the “time” and “daily_returns” columns.\n",
    "\n",
    "        * Use `ORDER` to sort the results in descending order by the “daily_returns” column.\n",
    "\n",
    "        * Use `LIMIT` to limit the results to the top 10 daily return values.\n",
    "\n",
    "    - Using the SQL statement, read the data from the database into a Pandas DataFrame, and then review the resulting DataFrame.\n",
    "\n",
    "#### Analyze the ETF Portfolio\n",
    "\n",
    "For this part of the assignment, you’ll build the entire ETF portfolio and then evaluate its performance. To do so, you’ll build the ETF portfolio by using SQL joins to combine all the data for each asset.\n",
    "\n",
    "Complete the following steps:\n",
    "\n",
    "1. Write a SQL query to join each table in the portfolio into a single DataFrame. To do so, complete the following steps:\n",
    "\n",
    "    - Use a SQL inner join to join each table on the “time” column. Access the “time” column in the `GDOT` table via the `GDOT.time` syntax. Access the “time” columns from the other tables via similar syntax.\n",
    "\n",
    "    - Using the SQL query, read the data from the database into a Pandas DataFrame. Review the resulting DataFrame.\n",
    "\n",
    "2. Create a DataFrame that averages the “daily_returns” columns for all four assets. Review the resulting DataFrame.\n",
    "\n",
    "    > **Hint** Assuming that this ETF contains equally weighted returns, you can average the returns for each asset to get the average returns of the portfolio. You can then use the average returns of the portfolio to calculate the annualized returns and the cumulative returns. For the calculation to get the average daily returns for the portfolio, use the following code:\n",
    "    >\n",
    "    > ```python\n",
    "    > etf_portfolio_returns = etf_portfolio['daily_returns'].mean(axis=1)\n",
    "    > ```\n",
    "    >\n",
    "    > You can use the average daily returns of the portfolio the same way that you used the daily returns of a single asset.\n",
    "\n",
    "3. Use the average daily returns in the `etf_portfolio_returns` DataFrame to calculate the annualized returns for the portfolio. Display the annualized return value of the ETF portfolio.\n",
    "\n",
    "> **Hint**  To calculate the annualized returns, multiply the mean of the `etf_portfolio_returns` values by 252.\n",
    ">\n",
    "> To convert the decimal values to percentages, multiply the results by 100.\n",
    "\n",
    "4. Use the average daily returns in the `etf_portfolio_returns` DataFrame to calculate the cumulative returns of the ETF portfolio.\n",
    "\n",
    "5. Using hvPlot, create an interactive line plot that visualizes the cumulative return values of the ETF portfolio. Reflect the “time” column of the DataFrame on the x-axis. Make sure that you professionally style and format your visualization to enhance its readability.\n",
    "\n",
    "#### Deploy the Notebook as a Web Application\n",
    "\n",
    "For this part of the assignment, complete the following steps:\n",
    "\n",
    "1. Use the Voilà library to deploy your notebook as a web application. You can deploy the web application locally on your computer.\n",
    "\n",
    "2. Take a screen recording or screenshots to show how the web application appears when using Voilà. Include the recording or screenshots in the `README.md` file for your GitHub repository.\n"
   ]
  },
  {
   "cell_type": "markdown",
   "metadata": {},
   "source": [
    "## Review the following code which imports the required libraries, initiates your SQLite database, popluates the database with records from the `etf.db` seed file that was included in your Starter_Code folder, creates the database engine, and confirms that data tables that it now contains."
   ]
  },
  {
   "cell_type": "code",
   "execution_count": 344,
   "metadata": {},
   "outputs": [
    {
     "name": "stderr",
     "output_type": "stream",
     "text": [
      "C:\\Users\\jason\\AppData\\Local\\Temp\\ipykernel_18660\\2254046128.py:21: SADeprecationWarning: The Engine.table_names() method is deprecated and will be removed in a future release.  Please refer to Inspector.get_table_names(). (deprecated since: 1.4)\n",
      "  engine.table_names()\n"
     ]
    },
    {
     "data": {
      "text/plain": [
       "['GDOT', 'GS', 'PYPL', 'SQ']"
      ]
     },
     "execution_count": 344,
     "metadata": {},
     "output_type": "execute_result"
    }
   ],
   "source": [
    "# Importing the required libraries and dependencies\n",
    "import numpy as np\n",
    "import pandas as pd\n",
    "import hvplot.pandas\n",
    "import sqlalchemy\n",
    "from bokeh.models.formatters import DatetimeTickFormatter\n",
    "from bokeh.models import HoverTool\n",
    "from datetime import datetime\n",
    "\n",
    "# Create a temporary SQLite database and populate the database with content from the etf.db seed file\n",
    "database_connection_string = 'sqlite:///etf.db'\n",
    "\n",
    "# Create an engine to interact with the SQLite database\n",
    "engine = sqlalchemy.create_engine(database_connection_string)\n",
    "\n",
    "# Confirm that table names contained in the SQLite database.\n",
    "engine.table_names()"
   ]
  },
  {
   "cell_type": "markdown",
   "metadata": {},
   "source": [
    "## Analyze a single asset in the FinTech ETF\n",
    "\n",
    "For this part of the assignment, you’ll use SQL queries with Python, Pandas, and hvPlot to analyze the performance of a single asset from the ETF.\n",
    "\n",
    "Complete the following steps:\n",
    "\n",
    "1. Write a SQL `SELECT` statement by using an f-string that reads all the PYPL data from the database. Using the SQL `SELECT` statement, execute a query that reads the PYPL data from the database into a Pandas DataFrame.\n",
    "\n",
    "2. Use the `head` and `tail` functions to review the first five and the last five rows of the DataFrame. Make a note of the beginning and end dates that are available from this dataset. You’ll use this information to complete your analysis.\n",
    "\n",
    "3. Using hvPlot, create an interactive visualization for the PYPL daily returns. Reflect the “time” column of the DataFrame on the x-axis. Make sure that you professionally style and format your visualization to enhance its readability.\n",
    "\n",
    "4. Using hvPlot, create an interactive visualization for the PYPL cumulative returns. Reflect the “time” column of the DataFrame on the x-axis. Make sure that you professionally style and format your visualization to enhance its readability.\n",
    "\n"
   ]
  },
  {
   "cell_type": "markdown",
   "metadata": {},
   "source": [
    "### Step 1: Write a SQL `SELECT` statement by using an f-string that reads all the PYPL data from the database. Using the SQL `SELECT` statement, execute a query that reads the PYPL data from the database into a Pandas DataFrame."
   ]
  },
  {
   "cell_type": "code",
   "execution_count": 412,
   "metadata": {},
   "outputs": [],
   "source": [
    "# Write a SQL query to SELECT all of the data from the PYPL table\n",
    "query = \"SELECT * from pypl\"\n",
    "\n",
    "# Use the query to read the PYPL data into a Pandas DataFrame\n",
    "pypl_dataframe = pd.read_sql_query(query, engine)\n",
    "\n",
    "def formatTime(time):\n",
    "    return datetime.strptime(time.split(\" \")[0], '%Y-%m-%d')\n",
    "\n",
    "pypl_dataframe['time'] = pypl_dataframe['time'].apply(formatTime)\n",
    "\n"
   ]
  },
  {
   "cell_type": "markdown",
   "metadata": {},
   "source": [
    "### Step 2: Use the `head` and `tail` functions to review the first five and the last five rows of the DataFrame. Make a note of the beginning and end dates that are available from this dataset. You’ll use this information to complete your analysis."
   ]
  },
  {
   "cell_type": "code",
   "execution_count": 426,
   "metadata": {},
   "outputs": [
    {
     "data": {
      "text/html": [
       "<div>\n",
       "<style scoped>\n",
       "    .dataframe tbody tr th:only-of-type {\n",
       "        vertical-align: middle;\n",
       "    }\n",
       "\n",
       "    .dataframe tbody tr th {\n",
       "        vertical-align: top;\n",
       "    }\n",
       "\n",
       "    .dataframe thead th {\n",
       "        text-align: right;\n",
       "    }\n",
       "</style>\n",
       "<table border=\"1\" class=\"dataframe\">\n",
       "  <thead>\n",
       "    <tr style=\"text-align: right;\">\n",
       "      <th></th>\n",
       "      <th>time</th>\n",
       "      <th>open</th>\n",
       "      <th>high</th>\n",
       "      <th>low</th>\n",
       "      <th>close</th>\n",
       "      <th>volume</th>\n",
       "      <th>daily_returns</th>\n",
       "    </tr>\n",
       "  </thead>\n",
       "  <tbody>\n",
       "    <tr>\n",
       "      <th>0</th>\n",
       "      <td>2016-12-16</td>\n",
       "      <td>39.90</td>\n",
       "      <td>39.90</td>\n",
       "      <td>39.12</td>\n",
       "      <td>39.32</td>\n",
       "      <td>7298861</td>\n",
       "      <td>-0.005564</td>\n",
       "    </tr>\n",
       "    <tr>\n",
       "      <th>1</th>\n",
       "      <td>2016-12-19</td>\n",
       "      <td>39.40</td>\n",
       "      <td>39.80</td>\n",
       "      <td>39.11</td>\n",
       "      <td>39.45</td>\n",
       "      <td>3436478</td>\n",
       "      <td>0.003306</td>\n",
       "    </tr>\n",
       "    <tr>\n",
       "      <th>2</th>\n",
       "      <td>2016-12-20</td>\n",
       "      <td>39.61</td>\n",
       "      <td>39.74</td>\n",
       "      <td>39.26</td>\n",
       "      <td>39.74</td>\n",
       "      <td>2940991</td>\n",
       "      <td>0.007351</td>\n",
       "    </tr>\n",
       "    <tr>\n",
       "      <th>3</th>\n",
       "      <td>2016-12-21</td>\n",
       "      <td>39.84</td>\n",
       "      <td>40.74</td>\n",
       "      <td>39.82</td>\n",
       "      <td>40.09</td>\n",
       "      <td>5826704</td>\n",
       "      <td>0.008807</td>\n",
       "    </tr>\n",
       "    <tr>\n",
       "      <th>4</th>\n",
       "      <td>2016-12-22</td>\n",
       "      <td>40.04</td>\n",
       "      <td>40.09</td>\n",
       "      <td>39.54</td>\n",
       "      <td>39.68</td>\n",
       "      <td>4338385</td>\n",
       "      <td>-0.010227</td>\n",
       "    </tr>\n",
       "  </tbody>\n",
       "</table>\n",
       "</div>"
      ],
      "text/plain": [
       "        time   open   high    low  close   volume  daily_returns\n",
       "0 2016-12-16  39.90  39.90  39.12  39.32  7298861      -0.005564\n",
       "1 2016-12-19  39.40  39.80  39.11  39.45  3436478       0.003306\n",
       "2 2016-12-20  39.61  39.74  39.26  39.74  2940991       0.007351\n",
       "3 2016-12-21  39.84  40.74  39.82  40.09  5826704       0.008807\n",
       "4 2016-12-22  40.04  40.09  39.54  39.68  4338385      -0.010227"
      ]
     },
     "execution_count": 426,
     "metadata": {},
     "output_type": "execute_result"
    }
   ],
   "source": [
    "# View the first 5 rows of the DataFrame.\n",
    "pypl_dataframe.head()"
   ]
  },
  {
   "cell_type": "code",
   "execution_count": 427,
   "metadata": {},
   "outputs": [
    {
     "data": {
      "text/html": [
       "<div>\n",
       "<style scoped>\n",
       "    .dataframe tbody tr th:only-of-type {\n",
       "        vertical-align: middle;\n",
       "    }\n",
       "\n",
       "    .dataframe tbody tr th {\n",
       "        vertical-align: top;\n",
       "    }\n",
       "\n",
       "    .dataframe thead th {\n",
       "        text-align: right;\n",
       "    }\n",
       "</style>\n",
       "<table border=\"1\" class=\"dataframe\">\n",
       "  <thead>\n",
       "    <tr style=\"text-align: right;\">\n",
       "      <th></th>\n",
       "      <th>time</th>\n",
       "      <th>open</th>\n",
       "      <th>high</th>\n",
       "      <th>low</th>\n",
       "      <th>close</th>\n",
       "      <th>volume</th>\n",
       "      <th>daily_returns</th>\n",
       "    </tr>\n",
       "  </thead>\n",
       "  <tbody>\n",
       "    <tr>\n",
       "      <th>994</th>\n",
       "      <td>2020-11-30</td>\n",
       "      <td>212.51</td>\n",
       "      <td>215.83</td>\n",
       "      <td>207.0900</td>\n",
       "      <td>214.200</td>\n",
       "      <td>8992681</td>\n",
       "      <td>0.013629</td>\n",
       "    </tr>\n",
       "    <tr>\n",
       "      <th>995</th>\n",
       "      <td>2020-12-01</td>\n",
       "      <td>217.15</td>\n",
       "      <td>220.57</td>\n",
       "      <td>214.3401</td>\n",
       "      <td>216.520</td>\n",
       "      <td>9148174</td>\n",
       "      <td>0.010831</td>\n",
       "    </tr>\n",
       "    <tr>\n",
       "      <th>996</th>\n",
       "      <td>2020-12-02</td>\n",
       "      <td>215.60</td>\n",
       "      <td>215.75</td>\n",
       "      <td>210.5000</td>\n",
       "      <td>212.660</td>\n",
       "      <td>6414746</td>\n",
       "      <td>-0.017827</td>\n",
       "    </tr>\n",
       "    <tr>\n",
       "      <th>997</th>\n",
       "      <td>2020-12-03</td>\n",
       "      <td>213.33</td>\n",
       "      <td>216.93</td>\n",
       "      <td>213.1100</td>\n",
       "      <td>214.680</td>\n",
       "      <td>6463339</td>\n",
       "      <td>0.009499</td>\n",
       "    </tr>\n",
       "    <tr>\n",
       "      <th>998</th>\n",
       "      <td>2020-12-04</td>\n",
       "      <td>214.88</td>\n",
       "      <td>217.28</td>\n",
       "      <td>213.0100</td>\n",
       "      <td>217.235</td>\n",
       "      <td>2118319</td>\n",
       "      <td>0.011901</td>\n",
       "    </tr>\n",
       "  </tbody>\n",
       "</table>\n",
       "</div>"
      ],
      "text/plain": [
       "          time    open    high       low    close   volume  daily_returns\n",
       "994 2020-11-30  212.51  215.83  207.0900  214.200  8992681       0.013629\n",
       "995 2020-12-01  217.15  220.57  214.3401  216.520  9148174       0.010831\n",
       "996 2020-12-02  215.60  215.75  210.5000  212.660  6414746      -0.017827\n",
       "997 2020-12-03  213.33  216.93  213.1100  214.680  6463339       0.009499\n",
       "998 2020-12-04  214.88  217.28  213.0100  217.235  2118319       0.011901"
      ]
     },
     "execution_count": 427,
     "metadata": {},
     "output_type": "execute_result"
    }
   ],
   "source": [
    "# View the last 5 rows of the DataFrame.\n",
    "pypl_dataframe.tail()"
   ]
  },
  {
   "cell_type": "markdown",
   "metadata": {},
   "source": [
    "### Step 3: Using hvPlot, create an interactive visualization for the PYPL daily returns. Reflect the “time” column of the DataFrame on the x-axis. Make sure that you professionally style and format your visualization to enhance its readability."
   ]
  },
  {
   "cell_type": "code",
   "execution_count": 428,
   "metadata": {},
   "outputs": [
    {
     "data": {},
     "metadata": {},
     "output_type": "display_data"
    },
    {
     "data": {
      "application/vnd.holoviews_exec.v0+json": "",
      "text/html": [
       "<div id='27068'>\n",
       "\n",
       "\n",
       "\n",
       "\n",
       "\n",
       "  <div class=\"bk-root\" id=\"81f1dc6e-95e8-423a-a7ed-9cb5df36d5d3\" data-root-id=\"27068\"></div>\n",
       "</div>\n",
       "<script type=\"application/javascript\">(function(root) {\n",
       "  function embed_document(root) {\n",
       "    var docs_json = {\"f9fce15b-0aa5-4f7f-a58f-abfa61e6a00c\":{\"defs\":[{\"extends\":null,\"module\":null,\"name\":\"ReactiveHTML1\",\"overrides\":[],\"properties\":[]},{\"extends\":null,\"module\":null,\"name\":\"FlexBox1\",\"overrides\":[],\"properties\":[{\"default\":\"flex-start\",\"kind\":null,\"name\":\"align_content\"},{\"default\":\"flex-start\",\"kind\":null,\"name\":\"align_items\"},{\"default\":\"row\",\"kind\":null,\"name\":\"flex_direction\"},{\"default\":\"wrap\",\"kind\":null,\"name\":\"flex_wrap\"},{\"default\":\"flex-start\",\"kind\":null,\"name\":\"justify_content\"}]},{\"extends\":null,\"module\":null,\"name\":\"TemplateActions1\",\"overrides\":[],\"properties\":[{\"default\":0,\"kind\":null,\"name\":\"open_modal\"},{\"default\":0,\"kind\":null,\"name\":\"close_modal\"}]},{\"extends\":null,\"module\":null,\"name\":\"MaterialTemplateActions1\",\"overrides\":[],\"properties\":[{\"default\":0,\"kind\":null,\"name\":\"open_modal\"},{\"default\":0,\"kind\":null,\"name\":\"close_modal\"}]}],\"roots\":{\"references\":[{\"attributes\":{},\"id\":\"27091\",\"type\":\"PanTool\"},{\"attributes\":{\"line_alpha\":0.1,\"line_color\":\"#30a2da\",\"line_width\":2,\"x\":{\"field\":\"time\"},\"y\":{\"field\":\"daily_returns\"}},\"id\":\"27107\",\"type\":\"Line\"},{\"attributes\":{\"children\":[{\"id\":\"27069\"},{\"id\":\"27073\"},{\"id\":\"27139\"}],\"margin\":[0,0,0,0],\"name\":\"Row44561\",\"tags\":[\"embedded\"]},\"id\":\"27068\",\"type\":\"Row\"},{\"attributes\":{},\"id\":\"27087\",\"type\":\"BasicTicker\"},{\"attributes\":{\"coordinates\":null,\"data_source\":{\"id\":\"27103\"},\"glyph\":{\"id\":\"27106\"},\"group\":null,\"hover_glyph\":null,\"muted_glyph\":{\"id\":\"27108\"},\"nonselection_glyph\":{\"id\":\"27107\"},\"selection_glyph\":{\"id\":\"27111\"},\"view\":{\"id\":\"27110\"}},\"id\":\"27109\",\"type\":\"GlyphRenderer\"},{\"attributes\":{},\"id\":\"27092\",\"type\":\"WheelZoomTool\"},{\"attributes\":{\"line_color\":\"#30a2da\",\"line_width\":2,\"x\":{\"field\":\"time\"},\"y\":{\"field\":\"daily_returns\"}},\"id\":\"27106\",\"type\":\"Line\"},{\"attributes\":{\"margin\":[5,5,5,5],\"name\":\"HSpacer44566\",\"sizing_mode\":\"stretch_width\"},\"id\":\"27139\",\"type\":\"Spacer\"},{\"attributes\":{},\"id\":\"27090\",\"type\":\"SaveTool\"},{\"attributes\":{\"line_alpha\":0.2,\"line_color\":\"#30a2da\",\"line_width\":2,\"x\":{\"field\":\"time\"},\"y\":{\"field\":\"daily_returns\"}},\"id\":\"27108\",\"type\":\"Line\"},{\"attributes\":{\"overlay\":{\"id\":\"27095\"}},\"id\":\"27093\",\"type\":\"BoxZoomTool\"},{\"attributes\":{},\"id\":\"27094\",\"type\":\"ResetTool\"},{\"attributes\":{\"source\":{\"id\":\"27103\"}},\"id\":\"27110\",\"type\":\"CDSView\"},{\"attributes\":{\"line_color\":\"#30a2da\",\"line_width\":2,\"x\":{\"field\":\"time\"},\"y\":{\"field\":\"daily_returns\"}},\"id\":\"27111\",\"type\":\"Line\"},{\"attributes\":{\"bottom_units\":\"screen\",\"coordinates\":null,\"fill_alpha\":0.5,\"fill_color\":\"lightgrey\",\"group\":null,\"left_units\":\"screen\",\"level\":\"overlay\",\"line_alpha\":1.0,\"line_color\":\"black\",\"line_dash\":[4,4],\"line_width\":2,\"right_units\":\"screen\",\"syncable\":false,\"top_units\":\"screen\"},\"id\":\"27095\",\"type\":\"BoxAnnotation\"},{\"attributes\":{},\"id\":\"27114\",\"type\":\"DatetimeTickFormatter\"},{\"attributes\":{\"tools\":[{\"id\":\"27072\"},{\"id\":\"27090\"},{\"id\":\"27091\"},{\"id\":\"27092\"},{\"id\":\"27093\"},{\"id\":\"27094\"}]},\"id\":\"27096\",\"type\":\"Toolbar\"},{\"attributes\":{\"desired_num_ticks\":20},\"id\":\"27112\",\"type\":\"BasicTicker\"},{\"attributes\":{},\"id\":\"27115\",\"type\":\"AllLabels\"},{\"attributes\":{\"end\":1607040000000.0,\"reset_end\":1607040000000.0,\"reset_start\":1481846400000.0,\"start\":1481846400000.0,\"tags\":[[[\"time\",\"time\",null]]]},\"id\":\"27070\",\"type\":\"Range1d\"},{\"attributes\":{},\"id\":\"27078\",\"type\":\"LinearScale\"},{\"attributes\":{\"margin\":[5,5,5,5],\"name\":\"HSpacer44565\",\"sizing_mode\":\"stretch_width\"},\"id\":\"27069\",\"type\":\"Spacer\"},{\"attributes\":{},\"id\":\"27120\",\"type\":\"AllLabels\"},{\"attributes\":{},\"id\":\"27127\",\"type\":\"UnionRenderers\"},{\"attributes\":{\"axis\":{\"id\":\"27082\"},\"coordinates\":null,\"grid_line_color\":null,\"group\":null,\"ticker\":null},\"id\":\"27085\",\"type\":\"Grid\"},{\"attributes\":{\"below\":[{\"id\":\"27082\"}],\"center\":[{\"id\":\"27085\"},{\"id\":\"27089\"}],\"frame_height\":500,\"frame_width\":1000,\"height\":null,\"left\":[{\"id\":\"27086\"}],\"margin\":[5,5,5,5],\"min_border_bottom\":10,\"min_border_left\":10,\"min_border_right\":10,\"min_border_top\":10,\"renderers\":[{\"id\":\"27109\"}],\"sizing_mode\":\"fixed\",\"title\":{\"id\":\"27074\"},\"toolbar\":{\"id\":\"27096\"},\"width\":null,\"x_range\":{\"id\":\"27070\"},\"x_scale\":{\"id\":\"27078\"},\"y_range\":{\"id\":\"27071\"},\"y_scale\":{\"id\":\"27080\"}},\"id\":\"27073\",\"subtype\":\"Figure\",\"type\":\"Plot\"},{\"attributes\":{\"callback\":null,\"formatters\":{\"$x\":\"datetime\"},\"renderers\":[{\"id\":\"27109\"}],\"tooltips\":[[\"Date\",\"$x{%m/%d/%y}\"],[\"Return\",\"$y{%0.2f}\"]]},\"id\":\"27072\",\"type\":\"HoverTool\"},{\"attributes\":{\"end\":0.1715458661010297,\"reset_end\":0.1715458661010297,\"reset_start\":-0.19523816539422575,\"start\":-0.19523816539422575,\"tags\":[[[\"daily_returns\",\"daily_returns\",null]]]},\"id\":\"27071\",\"type\":\"Range1d\"},{\"attributes\":{\"data\":{\"daily_returns\":{\"__ndarray__\":\"gDtLE0PKdr8AfvmOnRVrPwAkZsopHH4/AJ9PsogJgj+AZsBD4/GEvwCVUkoppWS/AJC3j+v5bD8Af3NAxt9svwCNzTENLoQ/AKLr1YSeib+AG0vucjyUP0CKCbqrFJM/ABigfwH6Vz8AZF9nJ/SCPwA8QeqxxFO/AB65bTawfb8AMmDYa/FxPwBoqQs8yHw/AMDcgLuJTz/AAz/wAz+AvwBc4VEoyls/AK5YfBy+W78ABGk9nteEPwAkhNhqlFe/gPNtrAQ8gD+A2PFJeWd4v4CB9SBVn3S/AKk/tJFZnr9A2Bs+HVyFvwDUcyWpx1y/AHQyGHQyiL8AmhPpHyJ8PwCg1r/PjjA/AFDg5Qv4bD8Arpf26d18P4C1j/o0RJY/AIIBAwYMWL8AHiJwEhV4vwBwqM3qR44/gDcdX+nhhT8AcgNkc5Z5PwA832mJYns/ABOo+kRuc78Ak20XoPCGPwAwMYsv5D6/AHazs+8tZz+AsSO71wCKP8AEJJYW7IS/gK+/OBlEjr+AgsThtfeEP4Af8kE5aYA/ADfxelLmeD8AO6F26nVuvwBQ1fQEkz4/ALvEIJsZY78ApmWLSu5nPwDECnG+OWA/AD0FbgaHg79AV7KD2xSHvwByfLs8Q3o/AJAPCSMyRz/ALlqKTEyQPwA8z8A2hVw/gPNrD7msiL+AVZZroGqKPwAwCiwHWU6/AABy2jpgPr8AVDe8Zf5SvwBol9dBn1o/AESHyCT8Yj8AIh8Ksf16P8B8y/0YOoi/AJ9PpfWQgr8AiG0gfEthPwDRMkG0THA/AFDUml6PPj8AHtZphtFoPwBAl6UadC4/gOyWNkoggb8AnrdygzBzvwDwBN5TEFk/AAxLf4g6ij8A0GxEQGkuvwD0QrVB9nM/gKWLdzlygj8AghaAFoBmP4Dd54BKCYU/gKDlE8QNhT+A8xI2UcV9v+AXbu2N1a8/ACQBgSjCiD8Aq3Z//i5tvyAho27DJqA/ADwBqKUKRL8AjU6w+GFivwCucmP8HoA/ABdXotzFZL8AJCfQGqlQP4B+QKSZt4c/APw1ApedXb8Atwo4YDJ7v4BVEJ3Tl4A/gITFAIF0hz+AYbehoj2avwBAAailClQ/AFjcE+2Edj8A/inPyiyAPwA7gPOioH0/wDRn7/DKkj8AlqW61qZhvwCA2JJJTHM/AJoIVlybYb9AOKVgqNuWP8DVBVWyb5I/ALgdnZaDfD8AAJbY0m11PwBRl6UadH6/AKEIRShCgT8AznTve4mEP2CZvGecu5K/gG7yeef4l78ARPtUArVavwAvB6VWLWm/ANW7MMYtgD+AdIzWIC+DvwBywrCdvJU/AF3dmL71fr+AGpfZJOOTPwAMgBEFP3k/gCRGNJwbgT8AythXEd6Fv+B49AbJPpO/QMcKckseoD9AJ4G4UHOSvwDSJWd48HM/gLOGyAysj7+AArvDXj+hP0DVVwVVX5W/AMr7xaZhgj8Aboxs9JiSPwD4Yu7m1mq/oL8XaX68oD8A+hBfFHKYP0Ccxqa+LIq/APlEw0ZhfT8AaDdKV7mYP4BSUnM0iYW/gNO4ThNUij8Agoo3hs59vwAqxdkdwlC/gDRiPvMQd7+AtaASyJKBP8BNLtUaOJg/YHIFMbmCkL9Aoqib7ySGv4BqGxMVoos/ADEUWvSQcL/AKL7nR4aGvwClnzfiB3w/gPYMDsFyij8AqhCcXj1jvwAcxYcqLGo/oKGlmhomnL8AMBSvQJc2P8CY2nvG0ZE/gA+gVGAyhj+AO1QURj6EP8DLO+BI0ZC/AIZj56m5ZD8AVOG+us5Iv8Dt2CJ5vZg/wEu9+r5Cir8AAsDIz15QvwBQFmpW2SW/AHJ4a5PHgj+ALBQnlD2AP4Cr6HsbLYk/AJAScirgV78AV226UzltvwA5qgoA/2e/ALjcgnxkNb+AbDhi2hOJP8Acz8vxvIy/gB1ApVZLmT8APGvItexUvwAu9jhPAYK/AGrzuIBibj8A/uZtxcRxPwCYnxXQNXo/ABLHDOKfjT+Aab0xDNiNPwCgmot/cmC/AHAp65jKfT+gysXnB7OYv0DxMrVDs4K/AFyfa19heT+ANwlMM2eDPwBIA57GoFk/AIwi4F7pYT8AsIVZfKNOPwB+HUQlD2y/gEyDLY4dnT8AyHv3/CFqPwCkFlqZkWc/AGnPNkqAZ7/AweoS4vqaP8DjrSqnd5A/AEvzOa/6aL+A121nTSKUv0C8+NwqK4O/gMfPvWTQgT8AAH/Jw3wjP+BAcaA4UKw/oEGgrJeWkL8A+OLqBx11P4CD4cLYNog/AMsERbtMcT8AtGtzMAJvvwAcBdm8I1A/QCCcngG7lD8AqVrmrnJlvwDq1RDGsF+/AERw7NIokD+AGCPlfPqSPwBSMbAUonK/AJVSSimldD/A48JVynyCvwCmAShliFq/AIjUu4IlRj8AA7ugiHN5P8DFOGyrJI2/4CssA+vFrT9gGOFIJoeRvwAwyPzfTnO/ADdpjOe1lz8AnBbx5PVivwBZP4DfVok/gMa9D/OCgr8AaDqqXQxFv3DJ5EJ94a2/YD8eP260oD+AlJ38Umlyv1DZV6Sztq2/AFru5PW3az8A2w7vMlicPwAwraYbzX4/ALVa5Yathb8A9Vu/Qsl0PwC08y4eAXM/ACEoH0Amej8A9mPj++ZjPwCFpWpOX5E/ALqeNdLGZr8AbJJReJGGvwDkFfvml3y/AECb8kYmRj8AHMiHYcZcvwCl0YGBnnU/AHYmqfWKcD8AAlEkf4R2v4Aoy5I70n2/ANo973VAZj9gF+sccmOkPwDwGa53V0W/AOGLDG+gmT8AYSLkjNV0PwAIATk/lWA/AGZ1s6uMYD8Ac84555xzPwDVFSS6v4I/AAhDC0JcRL8AAGNZ9DqaPwCQPwBJ1nc/gJsyPwA7hT8A8ArTH2lZPwBoATafcWY/gDyxfi1UeL+A+IygKCeAP4DH+oUp9Io/QLXc2ZhSi7+Am1s5UUN5v4BcqigXfpM/MGqE4zvxtL8gXk7ByymYv4DiDxNKv5i/AGpTmTXeij8Akn3Y8HtTv2AUT1ciJqa/wEGTLxs0oT8AztAVcX58P4AzHjhCU3C/gJ7ZQ1VHnz8Alr8Tmk2LPwAAclrqvTA/4HyBkes2kL8AY6SxFMN9v4CFeLrJMZA/QOsRSKv0mT8A35KkXf1xvwBkjQ9x2Fo/APAmNWq9OL9Af1LA1p+EvwDk8FU64GU/AE6xVz/lZz8A4H3UzxNfPwBM8dwO/G0/AHpUHFmDcT8AsN+3rIqFPwCODxlnTVS/gE3F8Y/Ncr+ApB05zqejPwA3RpkM8oG/AKk5ngjVdL+gy0X4tA6XvwDVcRMiDXw/AAKlNsM/Yz+ADnuIh3Wfv0BaOTbIgJu/oGNrTVjPoD8QzNdA8i6hv8B95Itq6JC/gI+jtUOPiD+A5UEX6p2JvwC7uI0G8Ha/AOS2GBgRZz/AUREq5W+dPzDjz9TubaS/wCrqQVYFkj8AXWShoe6VPwCfULnb322/AMRuGcRuiT8AbU9duRhkvwDnGibnoHw/QIzM/F9InT8A52HuGyJwPwCNvvLPkYC/wJiHI+6riL8ArCN3sA17vzAUKb1hLqO/4JL0EXZGkb9AsLEX2/KbP+B8djt+uZm/APwMSggUez8A0CVKo/VlP4AFaRvXAqW/AAJNQxvWmD8AjPVW0G18P4BlI9fa/YE/AAgUK2fojT+AgWKmLiyRP8BBaq3IH50/ABBEqTSNMD8AWiF4K690vwC3HCwixIq/AECdmwTaQD/Aj6OOWEqSP0BYlDITjpQ/AEjLp51Rdz8A4oSdRCGAvwDBYlPh3HY/AL6DHGtAeD+AqBVK2CJ+vwCnKUVrQGW/gFhDEmARhj8AJ2rIaxR1P4DjmLcvdY8/ABNzYE46jz8A0GJoMbR4PwBU45pfVWE/4BeIfIHIl78Am1TA8I+KP4AP2hUQ2nW/gGs0V1kYiz8AKo4zEA5pPwCcKYoatG8/ACO6PdnWab8AwXtXLFJ5P4DADrNdqo+/AFBXWbIzkT8AYBdQ5X8uP4D6DqW1fIS/gEjqrRZyob8AvDvqtuZbP2CEhSuYI5W/gBI5+rUblz+AtbsnAF2EPwAsi9DHA30/ACWMxJa9f7+A/CN6/9qQP8CASKMpOJA/APAWB8GYbD8AdO3kOsxGvwCATBhL0EY/4AKOz5E3oT+AmcIkgOGKvwCC/0Thn2K/AKpxj3rmgj8A1QyqiqVwv4BfsFM6CYO/AMD2Flz+TT/AGrEl+tWUP4ASsZ/gjJg/AKafSzFoZj+AEiHgSAucv7DhaC4YI6W/YKPY4Idkor8APGR689xnv4CvC19aNJA/AAnlRmGlmT+Aqg6/aMJwvwCWAgYI43s/AD0WlzrVeD8AXnkRx+J0PwBg5UXATnQ/AI4Um0gyXL8A4B2oxiAuPwBnqX/0eIA/QIn7RPRpnb8AkLCziyZVPwBIujDC9lg/ANra17vCbD8ABA93lO12P4Dx0B6uGYE/ABpISTG6dD9Aoj2YMcGfPwBEXs0y0lW/AEDg2amtfD9AZQAKRn2WP4Bp74HbHXa/ANCFzXuRYz8ACyeoRaOAPxCsN8iDK6a/ALAxaLMURr8Aysy5Q8dZvwDPR/VwXIY/gGYwZsOVkj+ARQY8rLmFPwCCOsCtgGO/gIk67JeLj79AkYPLkOqXvwBsYNVD84g/AP8CMxQsc78AhJYfJlqNPwDkcJf7s1U/QBIIPjZiiL8AbgR3k0dyPwDAgQfoYGC/wMUJETqag78AGTSPWjyKvwA2fQdP6Gy/AE/zwKUehL8AkPrBmq52PzAUHNu9kKC/ANUa9voqjL+AE33wA0Cgv4BKauiobXm/MMCCYp4Krb8A1kiyBVR3P2DbdIaM+KQ/QHebZgtzl78AMk7beEamP4ADLTWC53i/QFaFUhFdoL+Q9qIsLOe3PwDM43xUZ38/wHxIk1PFmT+gDnIzsE6qv6BQmsxUkKE/AIwoPzignr8AbiBOmYiavwCLPVReRm+/ADA0ZzvjpD+AZRJBDG+EP+D6Hl3tbJK/APx7xjV9ej8AVukRWTF/P0Ar0r7edqU/gCcK7qwIgz8AjTT8YxqavwCjN6sus6G/AEB5HyFKHz8AtAHYBmBrP8A/TIgcgaA/YMuTrfZplL+wgYzkD3Ctv8D5W5zWbJ+/gCtBj8q2kj+AmETjugaOvwCVOqqwC6M/AB8OQ/ddjD/gvGXhTQupP4DjB6H5mZS/wOYfxweAkT+AxhNZMT6bP9A/yKEcLKa/wNpDadsSlD/wZOHq9SKiv4DOWfwwuJo/ANlTFwv4ez+AQtIa0OeIP4AjeQDLL4c/AHc+9DDzkr8gETzSX8+Vv4DXJS29SpE/YDGZBXNSkr9Au1f3QUqSv/AsnYHa8Kq/AHfO+79ajb+g2O+4phyzPwD5UK4MzpI/wAKC6xM3i78An1NzZDJ0P4CheDYe4pg/ANDFyK5HpL/AzXnkpeioPwAFTalrDYI/gKlrt2Tlkz8A9hTOSquBPwDW/nS1TYw/AKSfQZ53Qr8A+jdLJrJVv4ADlcA/jog/QKwQc/MJiL8ANoxZhvZcvwC0PjHi034/wEn8OyXsjb8AZIeMejl9PwAyQrBSiZU/gOR70kymkz9gF035pTmTv0BOeAJuiIi/gOyPw8+Riz/w5i/mUmmjvwCLAclR2oc/wCzlONdzkj8AS8oBkeF+PwAgLk3UbSy/oOEWmIk3kL+AW50nxFiGPwD4sSSj/IQ/gBMtYg9Jkz8AI1nS5oBtvwDVhfkL0HM/AD6+LPnMZD8A8rq+W+9pPwBv+dmhk2u/AGCDAeQFYz+A2buTkf+FPwCuhUo1J38/AJpqk8m3V78AQzJYiVuLPwA8DZ+gamI/APddM6GmfT+gYDdxaR2XvwAwqFF5XDS/ABQrCBzDR78APJILSjtlvwA7EKZjI3a/wIfurMCekj8AaBrO5EROPwBnMrDTsJI/AOWS85zsZ7/AhxECcOSRPwD8asNH7HO/gJpgkQvDij8AjO1khT9+P0AgHSyLapI/wMeayepQnL8A9A2oeHVnP0AuX/AQCJA/ACxWUDGXTL8AshfDict/PwCwvTh5PSm/ANNhyOTckD8ApSBatJxpv4B/o2C2zHW/ABIYVFm+Xb8AYck6j+WIPwCjIHI9/X4/AB3oPq0lcD8Aa1A87XF1PwDDMAzDMIS/wJbpNf1tkz8Az5qh7qxpvwDY+T29PUg/AOnLzq9Udj8AtCK9GbqKv4CM2b7egHa/AIAZ3fnfUD8ASsEontFqP4CVLL7QKZw/ADqmPMFFaT/A20FckDqRPwBSqHnS9mo/4Ilzud20kL9AuDIfFOSGv8BR/jN+MJU/QDJa40h8hL9A0qGl7F2RvwCAdYfaCkI/AGDlwfLreT8AKG9vWoF6P2DXXRCqyKC/AEGEAs/blT8Asy4CP5+WP0AK4IcHxJU/AG4GBpxsg7+ALdAU5T13vwAcYurcLmU/AAAsx098MT9ASUWkIWaXvwBgsEHy0D2/wI70slnfkD9AWS1t3W2MvwBySePwLYg/gMJJfuiyjr+QnubfT7CjvwDW/omfJp8/AH+WSF02kz8AFK0zdKyCP4AoVoumnJQ/gAFAN4lgjD9AG/uU+LaBvwBcd6Awc0+/gEEJ5RYAhj8A6j3tD3BuP4DRRRdddIE/ABE/vip0hL+AjqA9lE6EP4B5WDBcBo0/YG5caYE9lr8AsvzdZ3FkPwCN9pbVBJK/AFcBNB95Zb+AyipUQTlxvwDtxGgMv3s/ANbcTFnCdD+ADJ8NItWEPwDyq6wBvIk/gGpeuTUPcb8AIMT89F1dvwDsDbzf3Yg/AECEYR/5hT+ArEKbNh6BPwBcAW7OUHG/AALc3BRBej/AADlWfCiEvwB9T+n2In+/gBLkKUGegj9AAIzVzFqFvwBAAJM8nzs/gHAxtRRwiz+AW46gSy2AP/CWl0cF76m/AMC76povbT9A+02qYdKhvwA2w+QlanY/wEspjiZVjr8AsOtVE+9sP8BrgS4LPKG/0PBCtLejoL8Au8EU+ayLP4B3tnHyyo8/AEhEfPgeWj9AsbwY+fuSv8Bz92bknJS/ILWB1A6zoD/gqi0ipAibv8CWWhf7qJA/ABSWBF4Hhz8A+dxmzumNPwDDvDOAEGa/QJqps4h1lz9AIG+cDSOEv0AUN+nNa5m/gGTaTHjcjz8A+l36/ohkvwAQseGgTDI/AJJjRAvFkD8AAE4A2X9Tv+BexnOTJpa/QPEYuNIvkz/AnTLRieWZP4AnI1muc4q/8Edc1Zxypb8gnpPsRQSXvwAUTMODrYI/wO/w4/Nrnj8AgJgegJhOvwBYKXDkX3K/gDZP+C9rgz+gR0IgtUiSvwBkF3uqx3M/QDtivsfyjL8AdIzWIC9zP0CoESUSeYu/APQy+B1hcT8As0CEshdyP2BuKDWnTJe/ABlU1zNzjD9ASs9yyiGGv6DBJDAK3pu/gEybJqB9ij8AQgREJteRP8C0d49AUIe/oFQ+Nsctl78APN8EaYJ3PwDNcSri4ns/gDgB6osphD8A4uUjUL9hP4D4qVvEApI/gNij8+ABcb8A1mCryAx1P8BCSHcvAZi/AF6jzKzNYT9Qnh87OaSkv4CLqVqRjX+/UKVKa1v+tT+ACeb3I1qWPwCFDgNEKXa/QAe/8hsej78AxlNlsaWNP+AdT0+hvpe/AF2MK96ygj9Abd/NgY2VvwDm+YID1ZG/ALyqXEbSbr8ALq53sGxYv4DRnpnNxYM/gOPeXJE8iT8AdxQHNO15vwBAaZGhekY/ABbyGP+LkD8AmWlZi15xPwDFXJAvDHS/gNCDpdB9iD8AEkmRwap9vyAbsKJkUZC/gGQfpQSSe78ASvXm5YyaP4BGTkV29ZA/AMJ+giEWjj8AiBPGacRjP2DynXhPl5C/gICgPUE2er+Agohf8kZ3vwAb4I0jp22/AD5I0kRHaL+Acry/wQd0vwDovA9Nrle/QHW0Neb7kT8ABAG2Z1BgP0DXF9zWepM/wNA/PEYqkj9AOH04IV+EvwAdd0ihbXq/gMVHtl/mhD8AFLotb49TvwAo4qICnFm/ALBm9MOYUD+AahLbL5iDPwBvJL12YWm/QE7xcgz1ir8AlAkxUfhiP0CkBxlGCZg/QIwvPaNOkr8AP1MbAyyKP4BKLmf12HG/QFoUKawSlD8ABT9xY3h7PwCg6g1m7Go/wOYrsakflT+AEpioa2J2vwDcat7fJls/AHx3XCULdT8AUGPOSqV1PwAoT4Nw8VA/gDpHkRagd78ANdEK+FKVPwCipxAmyn+/gFKtyG92jr+AcAx0Zr+GPwCcMU78Mlg/ALAW8hMKbj9gAfkiUWqcvwChzLan1Jc/ANUppDRJnz8AmYBmU4NmvwDccuVVQlc/QG7hCCSXgb8AYq+fiCeEPwBZb7/to4S/ALKTs8vrYb/AWuZLLJSQP0DbkM93KJU/gBj0hEFPeL+AI04kPniLPwAimRQtdoi/AP2bNKSBmL9AdckupDiav5B7Xcf7z62/gCk9JqcMc7+A0ETue/SIvwDQMg7bVXA/gO2Wgv5Gpj8ghqe5AF+dv2Diqu/IIao/IMl3Kc/hm7+AOZufP16Hv6jgzucrobW/cNropWyztD9wNdp1/m6rv/jukGTIJ7G/KDofVenAwT94/HvQ/xPFv4CDg4HJqa8/iN7ygUjEsL+AA5Scr0uYP7AP2/ygALO/gFAhynfGkL9YLStnpgvCPwAbymsor5G/IMrzqqbiqj9AWDYMcCqyvyCaYeWSY6M/gMBAN7NUib+w7VKQJcenv4DmtoBuGJg/gO8atfW+iL/AQtp9DtO5P4BbSwpFy4y/IHzAidF0qD8AIlYzbwR+PwCwSnqYxFg/oBQJtRNCoj8A+5rV3BGRvwCS+i5J1mw/gETsUtsPoT8AyAdOTpBhPzCspKhpLaW/wERbgzlIsz8AUSdMbAttvwDuYolIFaY/ADClcZJ9Zj9Q2JXtlsaiv/Ay4W4BbbA/AF5jQTvlcr/An4xUpvuSv8CVweh3Bpk/AAOpQlokjj+AK+wykNmWP1DcCCfx9cE/QN86/7Lrgb+Az8sq0mB9v4Aao0UDDpW/APnsTYMwlD8AAjrX1Mt0PwA4I9SjoHw/ANs4BMaTcj8AIXzINNF3v2BzIZGdw6M/4BjGkLwLkr+AJNCOBNqRP8DGVFjZO5q/gL/t8X3Qfb+Am10oA0yTP0DNrFcbl6Y/gA+Km7q7cr/AdDs3Qr+TPwDrNgvC+3K/QCuPIAW9jL+AbBZLNWeEPwD4EZJzYj2/ACapNbUyeT9AZrWUFbaSP6BsQMP0xaW/gByXX6l0gD+AZlYYE/eVP4AGeIm415c/AI/Rbfmdjz+AssU8iAKbP8AigcmhWZa/IId+VkRWoj+ArOghBr2MP4A9MaqKc5u/AGT/kDL9mj+ATQQKP3iDv8CS7bFkAY2/oCZLaxx6oT/Ahq9yyymTPwDYDAsZPFW/gEWZ1/bNd78A3MdtA1F2P0DI03DgqZk/AP/KRKGbgj9gx3f6Wyibv/AnL/YTv6O/AN3bilfpcT8ADlXqJK5Zv0C+yiX7mYm/wMmi7q/HmD/A2/Mio0GcPyBFk7ea35G/ANodAGjzjz9gbh96L+SZvwDWNzh/oH6/gEjx66wroD+Aj8ZJxgSEv0DjVPF1Bag/oLEAFQErpj9AhkuQrNaTPwBUmG07snA/ADBFTYoZXT/AEcjs0ZScPwAThUPmnXc/QLp371Wlm7+gdSn4rx+bv8DJvSHjQJe/AEePelfoiT+A10u5pruCP8AurywCFIG/QJm41SjVmT/AIvvoGPKBv4A9xXE58oa/wMWDx+JLnz/AM6r2IB2AvwD+1kiVN4c/gMrARxSEjD+A4ycLk3qCPwCqFvYTTXA/ALhIGk9zRj8A4DB6sTtlv0CBYfgc9Jg/gN7KYxSggj/gXtF/1e2bv0D6EBB7WrC/ICAiVVDYn7+gF8V6UaynP8DhPHvayJe/IOfU4Wrkn78AxXYW5QaPPwAMoOg8YHS/YNKLiCMhnL9gQvhoEsGcvwAIuRWUS1c/YJd6Mn67pD/Apu9xxiaZPxCgf4Zev6C/AM5P9JBTbT/A6PzBOEScP4CROvTYB5o/AFOtOGVYij+A8wjVZ9qKPwCch91K8ki/4DJDQp+Jmb+AFW8u3geaP2DoeC9JO5u/gGhwZ+4OkD8A5A7ujU+Av4CWlqmeRpY/wLuAwBL1lT/AlWiE/6ifP6BdEJAeEJS/ABL6s6+1Y78AoK/mrJ57P+BED2qBepa/ANoK8LKNgz+AcVLW5SOsPxBxIIJtD6a/gEPLCTXgcL+A/Cz9FWedv8BKRyyFxZA/YLyjeWHEpL+AqqU99y2NP8BLViFU1qa/gHF1cZfQgD8wLXsMk2amvwCKAcaEu7Q/QIQ8xXFdqz+AID8hHbiCvxAbHqkZu7a/ADPXr/ZDf7/AouiqtjipP6B0UUx9TZG/ABgx8rGwXr+AptsVPn6RPwBwSwb2BF0/gLfXBpE3h78AGWwZqF9wPwCeICg9q4I/oOAlMdnLpT+A+sRizmmaP+A9TkP106Q/wIG8NYo7jb8AagdtUumLP4CQLhaQLoY/oLeeFFxBkr+AXUMCEnSDP4C8RYbHX4g/\",\"dtype\":\"float64\",\"order\":\"little\",\"shape\":[999]},\"time\":{\"__ndarray__\":\"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\",\"dtype\":\"float64\",\"order\":\"little\",\"shape\":[999]}},\"selected\":{\"id\":\"27104\"},\"selection_policy\":{\"id\":\"27127\"}},\"id\":\"27103\",\"type\":\"ColumnDataSource\"},{\"attributes\":{\"axis_label\":\"Time\",\"coordinates\":null,\"formatter\":{\"id\":\"27114\"},\"group\":null,\"major_label_orientation\":0.7853981633974483,\"major_label_policy\":{\"id\":\"27115\"},\"ticker\":{\"id\":\"27112\"}},\"id\":\"27082\",\"type\":\"DatetimeAxis\"},{\"attributes\":{\"coordinates\":null,\"group\":null,\"text\":\"PYPL Daily Returns\",\"text_color\":\"black\",\"text_font_size\":\"12pt\"},\"id\":\"27074\",\"type\":\"Title\"},{\"attributes\":{\"axis_label\":\"Daily Returns\",\"coordinates\":null,\"formatter\":{\"id\":\"27119\"},\"group\":null,\"major_label_policy\":{\"id\":\"27120\"},\"ticker\":{\"id\":\"27087\"}},\"id\":\"27086\",\"type\":\"LinearAxis\"},{\"attributes\":{\"axis\":{\"id\":\"27086\"},\"coordinates\":null,\"dimension\":1,\"grid_line_color\":null,\"group\":null,\"ticker\":null},\"id\":\"27089\",\"type\":\"Grid\"},{\"attributes\":{},\"id\":\"27080\",\"type\":\"LinearScale\"},{\"attributes\":{},\"id\":\"27104\",\"type\":\"Selection\"},{\"attributes\":{},\"id\":\"27119\",\"type\":\"BasicTickFormatter\"}],\"root_ids\":[\"27068\"]},\"title\":\"Bokeh Application\",\"version\":\"2.4.1\"}};\n",
       "    var render_items = [{\"docid\":\"f9fce15b-0aa5-4f7f-a58f-abfa61e6a00c\",\"root_ids\":[\"27068\"],\"roots\":{\"27068\":\"81f1dc6e-95e8-423a-a7ed-9cb5df36d5d3\"}}];\n",
       "    root.Bokeh.embed.embed_items_notebook(docs_json, render_items);\n",
       "  }\n",
       "  if (root.Bokeh !== undefined && root.Bokeh.Panel !== undefined) {\n",
       "    embed_document(root);\n",
       "  } else {\n",
       "    var attempts = 0;\n",
       "    var timer = setInterval(function(root) {\n",
       "      if (root.Bokeh !== undefined && root.Bokeh.Panel !== undefined) {\n",
       "        clearInterval(timer);\n",
       "        embed_document(root);\n",
       "      } else if (document.readyState == \"complete\") {\n",
       "        attempts++;\n",
       "        if (attempts > 200) {\n",
       "          clearInterval(timer);\n",
       "          console.log(\"Bokeh: ERROR: Unable to run BokehJS code because BokehJS library is missing\");\n",
       "        }\n",
       "      }\n",
       "    }, 25, root)\n",
       "  }\n",
       "})(window);</script>"
      ],
      "text/plain": [
       ":Curve   [time]   (daily_returns)"
      ]
     },
     "execution_count": 428,
     "metadata": {
      "application/vnd.holoviews_exec.v0+json": {
       "id": "27068"
      }
     },
     "output_type": "execute_result"
    }
   ],
   "source": [
    "# Create an interactive visualization with hvplot to plot the daily returns for PYPL.\n",
    "#pypl_dataframe.hvplot.line(x=\"time\", xlabel=\"Time\", y=\"daily_returns\", ylabel=\"Daily Returns\", legend=True, frame_width=1000, frame_height=500, title=\"PYPL Daily Returns\" )\n",
    "\n",
    "hover = HoverTool(tooltips=[(\"Date\",  \"$x{%m/%d/%y}\"),(\"Return\", \"$y{%0.2f}\") ],\n",
    "                  formatters = { '$x': 'datetime' } )\n",
    "\n",
    "pypl_dataframe.hvplot.line(x=\"time\", xlabel=\"Time\", y=\"daily_returns\", ylabel=\"Daily Returns\", legend=True, \n",
    "                           frame_width=1000, frame_height=500, title=\"PYPL Daily Returns\", rot=45, xticks=20).opts( tools=[hover] )\n",
    "\n",
    "\n"
   ]
  },
  {
   "cell_type": "markdown",
   "metadata": {},
   "source": [
    "### Step 4: Using hvPlot, create an interactive visualization for the PYPL cumulative returns. Reflect the “time” column of the DataFrame on the x-axis. Make sure that you professionally style and format your visualization to enhance its readability."
   ]
  },
  {
   "cell_type": "code",
   "execution_count": 405,
   "metadata": {},
   "outputs": [
    {
     "data": {},
     "metadata": {},
     "output_type": "display_data"
    },
    {
     "data": {
      "application/vnd.holoviews_exec.v0+json": "",
      "text/html": [
       "<div id='26235'>\n",
       "\n",
       "\n",
       "\n",
       "\n",
       "\n",
       "  <div class=\"bk-root\" id=\"676244e9-3cca-4c19-802e-2cadc52a2bf5\" data-root-id=\"26235\"></div>\n",
       "</div>\n",
       "<script type=\"application/javascript\">(function(root) {\n",
       "  function embed_document(root) {\n",
       "    var docs_json = {\"5bc535dd-d0a7-4cd5-b8ab-213e6eedd9a0\":{\"defs\":[{\"extends\":null,\"module\":null,\"name\":\"ReactiveHTML1\",\"overrides\":[],\"properties\":[]},{\"extends\":null,\"module\":null,\"name\":\"FlexBox1\",\"overrides\":[],\"properties\":[{\"default\":\"flex-start\",\"kind\":null,\"name\":\"align_content\"},{\"default\":\"flex-start\",\"kind\":null,\"name\":\"align_items\"},{\"default\":\"row\",\"kind\":null,\"name\":\"flex_direction\"},{\"default\":\"wrap\",\"kind\":null,\"name\":\"flex_wrap\"},{\"default\":\"flex-start\",\"kind\":null,\"name\":\"justify_content\"}]},{\"extends\":null,\"module\":null,\"name\":\"TemplateActions1\",\"overrides\":[],\"properties\":[{\"default\":0,\"kind\":null,\"name\":\"open_modal\"},{\"default\":0,\"kind\":null,\"name\":\"close_modal\"}]},{\"extends\":null,\"module\":null,\"name\":\"MaterialTemplateActions1\",\"overrides\":[],\"properties\":[{\"default\":0,\"kind\":null,\"name\":\"open_modal\"},{\"default\":0,\"kind\":null,\"name\":\"close_modal\"}]}],\"roots\":{\"references\":[{\"attributes\":{},\"id\":\"26294\",\"type\":\"UnionRenderers\"},{\"attributes\":{\"below\":[{\"id\":\"26249\"}],\"center\":[{\"id\":\"26252\"},{\"id\":\"26256\"}],\"frame_height\":500,\"frame_width\":1000,\"height\":null,\"left\":[{\"id\":\"26253\"}],\"margin\":[5,5,5,5],\"min_border_bottom\":10,\"min_border_left\":10,\"min_border_right\":10,\"min_border_top\":10,\"renderers\":[{\"id\":\"26276\"}],\"sizing_mode\":\"fixed\",\"title\":{\"id\":\"26241\"},\"toolbar\":{\"id\":\"26263\"},\"width\":null,\"x_range\":{\"id\":\"26237\"},\"x_scale\":{\"id\":\"26245\"},\"y_range\":{\"id\":\"26238\"},\"y_scale\":{\"id\":\"26247\"}},\"id\":\"26240\",\"subtype\":\"Figure\",\"type\":\"Plot\"},{\"attributes\":{},\"id\":\"26245\",\"type\":\"LinearScale\"},{\"attributes\":{},\"id\":\"26247\",\"type\":\"LinearScale\"},{\"attributes\":{\"axis\":{\"id\":\"26249\"},\"coordinates\":null,\"grid_line_color\":null,\"group\":null,\"ticker\":null},\"id\":\"26252\",\"type\":\"Grid\"},{\"attributes\":{\"end\":5.9440440060697854,\"reset_end\":5.9440440060697854,\"reset_start\":0.5441957511380894,\"start\":0.5441957511380894,\"tags\":[[[\"cum_returns\",\"cum_returns\",null]]]},\"id\":\"26238\",\"type\":\"Range1d\"},{\"attributes\":{\"line_color\":\"#30a2da\",\"line_width\":2,\"x\":{\"field\":\"time\"},\"y\":{\"field\":\"cum_returns\"}},\"id\":\"26273\",\"type\":\"Line\"},{\"attributes\":{\"line_alpha\":0.1,\"line_color\":\"#30a2da\",\"line_width\":2,\"x\":{\"field\":\"time\"},\"y\":{\"field\":\"cum_returns\"}},\"id\":\"26274\",\"type\":\"Line\"},{\"attributes\":{},\"id\":\"26286\",\"type\":\"BasicTickFormatter\"},{\"attributes\":{\"coordinates\":null,\"group\":null,\"text\":\"PYPL Daily Returns\",\"text_color\":\"black\",\"text_font_size\":\"12pt\"},\"id\":\"26241\",\"type\":\"Title\"},{\"attributes\":{\"axis_label\":\"Time\",\"coordinates\":null,\"formatter\":{\"id\":\"26281\"},\"group\":null,\"major_label_orientation\":0.7853981633974483,\"major_label_policy\":{\"id\":\"26282\"},\"ticker\":{\"id\":\"26279\"}},\"id\":\"26249\",\"type\":\"DatetimeAxis\"},{\"attributes\":{\"desired_num_ticks\":20},\"id\":\"26279\",\"type\":\"BasicTicker\"},{\"attributes\":{\"axis\":{\"id\":\"26253\"},\"coordinates\":null,\"dimension\":1,\"grid_line_color\":null,\"group\":null,\"ticker\":null},\"id\":\"26256\",\"type\":\"Grid\"},{\"attributes\":{},\"id\":\"26258\",\"type\":\"PanTool\"},{\"attributes\":{\"margin\":[5,5,5,5],\"name\":\"HSpacer43001\",\"sizing_mode\":\"stretch_width\"},\"id\":\"26306\",\"type\":\"Spacer\"},{\"attributes\":{},\"id\":\"26254\",\"type\":\"BasicTicker\"},{\"attributes\":{\"axis_label\":\"Cumulative Returns\",\"coordinates\":null,\"formatter\":{\"id\":\"26286\"},\"group\":null,\"major_label_policy\":{\"id\":\"26287\"},\"ticker\":{\"id\":\"26254\"}},\"id\":\"26253\",\"type\":\"LinearAxis\"},{\"attributes\":{},\"id\":\"26259\",\"type\":\"WheelZoomTool\"},{\"attributes\":{},\"id\":\"26282\",\"type\":\"AllLabels\"},{\"attributes\":{},\"id\":\"26257\",\"type\":\"SaveTool\"},{\"attributes\":{\"overlay\":{\"id\":\"26262\"}},\"id\":\"26260\",\"type\":\"BoxZoomTool\"},{\"attributes\":{},\"id\":\"26261\",\"type\":\"ResetTool\"},{\"attributes\":{\"bottom_units\":\"screen\",\"coordinates\":null,\"fill_alpha\":0.5,\"fill_color\":\"lightgrey\",\"group\":null,\"left_units\":\"screen\",\"level\":\"overlay\",\"line_alpha\":1.0,\"line_color\":\"black\",\"line_dash\":[4,4],\"line_width\":2,\"right_units\":\"screen\",\"syncable\":false,\"top_units\":\"screen\"},\"id\":\"26262\",\"type\":\"BoxAnnotation\"},{\"attributes\":{\"tools\":[{\"id\":\"26239\"},{\"id\":\"26257\"},{\"id\":\"26258\"},{\"id\":\"26259\"},{\"id\":\"26260\"},{\"id\":\"26261\"}]},\"id\":\"26263\",\"type\":\"Toolbar\"},{\"attributes\":{},\"id\":\"26281\",\"type\":\"DatetimeTickFormatter\"},{\"attributes\":{\"coordinates\":null,\"data_source\":{\"id\":\"26270\"},\"glyph\":{\"id\":\"26273\"},\"group\":null,\"hover_glyph\":null,\"muted_glyph\":{\"id\":\"26275\"},\"nonselection_glyph\":{\"id\":\"26274\"},\"selection_glyph\":{\"id\":\"26278\"},\"view\":{\"id\":\"26277\"}},\"id\":\"26276\",\"type\":\"GlyphRenderer\"},{\"attributes\":{\"margin\":[5,5,5,5],\"name\":\"HSpacer43000\",\"sizing_mode\":\"stretch_width\"},\"id\":\"26236\",\"type\":\"Spacer\"},{\"attributes\":{},\"id\":\"26271\",\"type\":\"Selection\"},{\"attributes\":{\"data\":{\"cum_returns\":{\"__ndarray__\":\"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\",\"dtype\":\"float64\",\"order\":\"little\",\"shape\":[999]},\"time\":{\"__ndarray__\":\"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\",\"dtype\":\"float64\",\"order\":\"little\",\"shape\":[999]}},\"selected\":{\"id\":\"26271\"},\"selection_policy\":{\"id\":\"26294\"}},\"id\":\"26270\",\"type\":\"ColumnDataSource\"},{\"attributes\":{\"line_alpha\":0.2,\"line_color\":\"#30a2da\",\"line_width\":2,\"x\":{\"field\":\"time\"},\"y\":{\"field\":\"cum_returns\"}},\"id\":\"26275\",\"type\":\"Line\"},{\"attributes\":{\"children\":[{\"id\":\"26236\"},{\"id\":\"26240\"},{\"id\":\"26306\"}],\"margin\":[0,0,0,0],\"name\":\"Row42996\",\"tags\":[\"embedded\"]},\"id\":\"26235\",\"type\":\"Row\"},{\"attributes\":{\"callback\":null,\"formatters\":{\"$x\":\"datetime\"},\"renderers\":[{\"id\":\"26276\"}],\"tooltips\":[[\"Date\",\"$x{%m/%d/%y}\"],[\"Return\",\"$y\"]]},\"id\":\"26239\",\"type\":\"HoverTool\"},{\"attributes\":{\"source\":{\"id\":\"26270\"}},\"id\":\"26277\",\"type\":\"CDSView\"},{\"attributes\":{\"line_color\":\"#30a2da\",\"line_width\":2,\"x\":{\"field\":\"time\"},\"y\":{\"field\":\"cum_returns\"}},\"id\":\"26278\",\"type\":\"Line\"},{\"attributes\":{},\"id\":\"26287\",\"type\":\"AllLabels\"},{\"attributes\":{\"end\":1607040000000.0,\"reset_end\":1607040000000.0,\"reset_start\":1481846400000.0,\"start\":1481846400000.0,\"tags\":[[[\"time\",\"time\",null]]]},\"id\":\"26237\",\"type\":\"Range1d\"}],\"root_ids\":[\"26235\"]},\"title\":\"Bokeh Application\",\"version\":\"2.4.1\"}};\n",
       "    var render_items = [{\"docid\":\"5bc535dd-d0a7-4cd5-b8ab-213e6eedd9a0\",\"root_ids\":[\"26235\"],\"roots\":{\"26235\":\"676244e9-3cca-4c19-802e-2cadc52a2bf5\"}}];\n",
       "    root.Bokeh.embed.embed_items_notebook(docs_json, render_items);\n",
       "  }\n",
       "  if (root.Bokeh !== undefined && root.Bokeh.Panel !== undefined) {\n",
       "    embed_document(root);\n",
       "  } else {\n",
       "    var attempts = 0;\n",
       "    var timer = setInterval(function(root) {\n",
       "      if (root.Bokeh !== undefined && root.Bokeh.Panel !== undefined) {\n",
       "        clearInterval(timer);\n",
       "        embed_document(root);\n",
       "      } else if (document.readyState == \"complete\") {\n",
       "        attempts++;\n",
       "        if (attempts > 200) {\n",
       "          clearInterval(timer);\n",
       "          console.log(\"Bokeh: ERROR: Unable to run BokehJS code because BokehJS library is missing\");\n",
       "        }\n",
       "      }\n",
       "    }, 25, root)\n",
       "  }\n",
       "})(window);</script>"
      ],
      "text/plain": [
       ":Curve   [time]   (cum_returns)"
      ]
     },
     "execution_count": 405,
     "metadata": {
      "application/vnd.holoviews_exec.v0+json": {
       "id": "26235"
      }
     },
     "output_type": "execute_result"
    }
   ],
   "source": [
    "# Create an interactive visaulization with hvplot to plot the cumulative returns for PYPL.\n",
    "\n",
    "hover = HoverTool(tooltips=[(\"Date\",  \"$x{%m/%d/%y}\"),(\"Return\", \"$y\") ],\n",
    "                  formatters = { '$x': 'datetime' } )\n",
    "\n",
    "pypl_dataframe['cum_returns'] = (1 + pypl_dataframe['daily_returns']).cumprod()\n",
    "\n",
    "pypl_dataframe.hvplot.line(x=\"time\", xlabel=\"Time\", y=\"cum_returns\", ylabel=\"Cumulative Returns\", rot=45, xticks=20, \n",
    "                           legend=True, frame_width=1000, frame_height=500, title=\"PYPL Daily Returns\" ).opts( tools=[hover] )"
   ]
  },
  {
   "cell_type": "markdown",
   "metadata": {},
   "source": [
    "## Optimize the SQL Queries\n",
    "\n",
    "For this part of the assignment, you’ll continue to analyze a single asset (PYPL) from the ETF. You’ll use advanced SQL queries to optimize the efficiency of accessing data from the database.\n",
    "\n",
    "Complete the following steps:\n",
    "\n",
    "1. Access the closing prices for PYPL that are greater than 200 by completing the following steps:\n",
    "\n",
    "1. Access the closing prices for PYPL that are greater than 200 by completing the following steps:\n",
    "\n",
    "    - Write a SQL `SELECT` statement to select the dates where the PYPL closing price was higher than 200.0.\n",
    "\n",
    "    - Select the “time” and “close” columns for those dates where the closing price was higher than 200.0.\n",
    "\n",
    "    - Using the SQL statement, read the data from the database into a Pandas DataFrame, and then review the resulting DataFrame.\n",
    "\n",
    "2. Find the top 10 daily returns for PYPL by completing the following steps:\n",
    "\n",
    "    -  Write a SQL statement to find the top 10 PYPL daily returns. Make sure to do the following:\n",
    "\n",
    "        * Use `SELECT` to select only the “time” and “daily_returns” columns.\n",
    "\n",
    "        * Use `ORDER` to sort the results in descending order by the “daily_returns” column.\n",
    "\n",
    "        * Use `LIMIT` to limit the results to the top 10 daily return values.\n",
    "\n",
    "    - Using the SQL statement, read the data from the database into a Pandas DataFrame, and then review the resulting DataFrame.\n"
   ]
  },
  {
   "cell_type": "markdown",
   "metadata": {},
   "source": [
    "### Step 1: Access the closing prices for PYPL that are greater than 200 by completing the following steps:\n",
    "\n",
    "    - Write a SQL `SELECT` statement to select the dates where the PYPL closing price was higher than 200.0.\n",
    "\n",
    "    - Select the “time” and “close” columns for those dates where the closing price was higher than 200.0.\n",
    "\n",
    "    - Using the SQL statement, read the data from the database into a Pandas DataFrame, and then review the resulting DataFrame.\n"
   ]
  },
  {
   "cell_type": "code",
   "execution_count": 42,
   "metadata": {
    "scrolled": true
   },
   "outputs": [
    {
     "data": {
      "text/html": [
       "<div>\n",
       "<style scoped>\n",
       "    .dataframe tbody tr th:only-of-type {\n",
       "        vertical-align: middle;\n",
       "    }\n",
       "\n",
       "    .dataframe tbody tr th {\n",
       "        vertical-align: top;\n",
       "    }\n",
       "\n",
       "    .dataframe thead th {\n",
       "        text-align: right;\n",
       "    }\n",
       "</style>\n",
       "<table border=\"1\" class=\"dataframe\">\n",
       "  <thead>\n",
       "    <tr style=\"text-align: right;\">\n",
       "      <th></th>\n",
       "      <th>time</th>\n",
       "      <th>close</th>\n",
       "    </tr>\n",
       "  </thead>\n",
       "  <tbody>\n",
       "    <tr>\n",
       "      <th>0</th>\n",
       "      <td>2020-08-05 00:00:00.000000</td>\n",
       "      <td>202.92</td>\n",
       "    </tr>\n",
       "    <tr>\n",
       "      <th>1</th>\n",
       "      <td>2020-08-06 00:00:00.000000</td>\n",
       "      <td>204.09</td>\n",
       "    </tr>\n",
       "    <tr>\n",
       "      <th>2</th>\n",
       "      <td>2020-08-25 00:00:00.000000</td>\n",
       "      <td>201.71</td>\n",
       "    </tr>\n",
       "    <tr>\n",
       "      <th>3</th>\n",
       "      <td>2020-08-26 00:00:00.000000</td>\n",
       "      <td>203.53</td>\n",
       "    </tr>\n",
       "    <tr>\n",
       "      <th>4</th>\n",
       "      <td>2020-08-27 00:00:00.000000</td>\n",
       "      <td>204.34</td>\n",
       "    </tr>\n",
       "  </tbody>\n",
       "</table>\n",
       "</div>"
      ],
      "text/plain": [
       "                         time   close\n",
       "0  2020-08-05 00:00:00.000000  202.92\n",
       "1  2020-08-06 00:00:00.000000  204.09\n",
       "2  2020-08-25 00:00:00.000000  201.71\n",
       "3  2020-08-26 00:00:00.000000  203.53\n",
       "4  2020-08-27 00:00:00.000000  204.34"
      ]
     },
     "execution_count": 42,
     "metadata": {},
     "output_type": "execute_result"
    }
   ],
   "source": [
    "# Write a SQL SELECT statement to select the time and close columns \n",
    "# where the PYPL closing price was higher than 200.0.\n",
    "query = \"SELECT time, close from pypl where close > 200\"\n",
    "\n",
    "# Using the query, read the data from the database into a Pandas DataFrame\n",
    "pypl_higher_than_200 = pd.read_sql_query(query, engine)\n",
    "\n",
    "# Review the resulting DataFrame\n",
    "pypl_higher_than_200.head()\n"
   ]
  },
  {
   "cell_type": "markdown",
   "metadata": {},
   "source": [
    "### Step 2: Find the top 10 daily returns for PYPL by completing the following steps:\n",
    "\n",
    "    -  Write a SQL statement to find the top 10 PYPL daily returns. Make sure to do the following:\n",
    "\n",
    "        * Use `SELECT` to select only the “time” and “daily_returns” columns.\n",
    "\n",
    "        * Use `ORDER` to sort the results in descending order by the “daily_returns” column.\n",
    "\n",
    "        * Use `LIMIT` to limit the results to the top 10 daily return values.\n",
    "\n",
    "    - Using the SQL statement, read the data from the database into a Pandas DataFrame, and then review the resulting DataFrame.\n"
   ]
  },
  {
   "cell_type": "code",
   "execution_count": 43,
   "metadata": {},
   "outputs": [
    {
     "data": {
      "text/html": [
       "<div>\n",
       "<style scoped>\n",
       "    .dataframe tbody tr th:only-of-type {\n",
       "        vertical-align: middle;\n",
       "    }\n",
       "\n",
       "    .dataframe tbody tr th {\n",
       "        vertical-align: top;\n",
       "    }\n",
       "\n",
       "    .dataframe thead th {\n",
       "        text-align: right;\n",
       "    }\n",
       "</style>\n",
       "<table border=\"1\" class=\"dataframe\">\n",
       "  <thead>\n",
       "    <tr style=\"text-align: right;\">\n",
       "      <th></th>\n",
       "      <th>time</th>\n",
       "      <th>daily_returns</th>\n",
       "    </tr>\n",
       "  </thead>\n",
       "  <tbody>\n",
       "    <tr>\n",
       "      <th>0</th>\n",
       "      <td>2020-03-24 00:00:00.000000</td>\n",
       "      <td>0.140981</td>\n",
       "    </tr>\n",
       "    <tr>\n",
       "      <th>1</th>\n",
       "      <td>2020-05-07 00:00:00.000000</td>\n",
       "      <td>0.140318</td>\n",
       "    </tr>\n",
       "    <tr>\n",
       "      <th>2</th>\n",
       "      <td>2020-03-13 00:00:00.000000</td>\n",
       "      <td>0.138700</td>\n",
       "    </tr>\n",
       "    <tr>\n",
       "      <th>3</th>\n",
       "      <td>2020-04-06 00:00:00.000000</td>\n",
       "      <td>0.100877</td>\n",
       "    </tr>\n",
       "    <tr>\n",
       "      <th>4</th>\n",
       "      <td>2018-10-19 00:00:00.000000</td>\n",
       "      <td>0.093371</td>\n",
       "    </tr>\n",
       "    <tr>\n",
       "      <th>5</th>\n",
       "      <td>2019-10-24 00:00:00.000000</td>\n",
       "      <td>0.085912</td>\n",
       "    </tr>\n",
       "    <tr>\n",
       "      <th>6</th>\n",
       "      <td>2020-11-04 00:00:00.000000</td>\n",
       "      <td>0.080986</td>\n",
       "    </tr>\n",
       "    <tr>\n",
       "      <th>7</th>\n",
       "      <td>2020-03-10 00:00:00.000000</td>\n",
       "      <td>0.080863</td>\n",
       "    </tr>\n",
       "    <tr>\n",
       "      <th>8</th>\n",
       "      <td>2020-04-22 00:00:00.000000</td>\n",
       "      <td>0.075321</td>\n",
       "    </tr>\n",
       "    <tr>\n",
       "      <th>9</th>\n",
       "      <td>2018-12-26 00:00:00.000000</td>\n",
       "      <td>0.074656</td>\n",
       "    </tr>\n",
       "  </tbody>\n",
       "</table>\n",
       "</div>"
      ],
      "text/plain": [
       "                         time  daily_returns\n",
       "0  2020-03-24 00:00:00.000000       0.140981\n",
       "1  2020-05-07 00:00:00.000000       0.140318\n",
       "2  2020-03-13 00:00:00.000000       0.138700\n",
       "3  2020-04-06 00:00:00.000000       0.100877\n",
       "4  2018-10-19 00:00:00.000000       0.093371\n",
       "5  2019-10-24 00:00:00.000000       0.085912\n",
       "6  2020-11-04 00:00:00.000000       0.080986\n",
       "7  2020-03-10 00:00:00.000000       0.080863\n",
       "8  2020-04-22 00:00:00.000000       0.075321\n",
       "9  2018-12-26 00:00:00.000000       0.074656"
      ]
     },
     "execution_count": 43,
     "metadata": {},
     "output_type": "execute_result"
    }
   ],
   "source": [
    "# Write a SQL SELECT statement to select the time and daily_returns columns\n",
    "# Sort the results in descending order and return only the top 10 return values\n",
    "query = \"SELECT time, daily_returns from pypl order by daily_returns DESC LIMIT 10\"\n",
    "\n",
    "# Using the query, read the data from the database into a Pandas DataFrame\n",
    "pypl_top_10_returns =pd.read_sql_query(query, engine)\n",
    "\n",
    "# Review the resulting DataFrame\n",
    "pypl_top_10_returns.head(10)\n"
   ]
  },
  {
   "cell_type": "markdown",
   "metadata": {},
   "source": [
    "## Analyze the Fintech ETF Portfolio\n",
    "\n",
    "For this part of the assignment, you’ll build the entire ETF portfolio and then evaluate its performance. To do so, you’ll build the ETF portfolio by using SQL joins to combine all the data for each asset.\n",
    "\n",
    "Complete the following steps:\n",
    "\n",
    "1. Write a SQL query to join each table in the portfolio into a single DataFrame. To do so, complete the following steps:\n",
    "\n",
    "    - Use a SQL inner join to join each table on the “time” column. Access the “time” column in the `GDOT` table via the `GDOT.time` syntax. Access the “time” columns from the other tables via similar syntax.\n",
    "\n",
    "    - Using the SQL query, read the data from the database into a Pandas DataFrame. Review the resulting DataFrame.\n",
    "\n",
    "2. Create a DataFrame that averages the “daily_returns” columns for all four assets. Review the resulting DataFrame.\n",
    "\n",
    "    > **Hint** Assuming that this ETF contains equally weighted returns, you can average the returns for each asset to get the average returns of the portfolio. You can then use the average returns of the portfolio to calculate the annualized returns and the cumulative returns. For the calculation to get the average daily returns for the portfolio, use the following code:\n",
    "    >\n",
    "    > ```python\n",
    "    > etf_portfolio_returns = etf_portfolio['daily_returns'].mean(axis=1)\n",
    "    > ```\n",
    "    >\n",
    "    > You can use the average daily returns of the portfolio the same way that you used the daily returns of a single asset.\n",
    "\n",
    "3. Use the average daily returns in the `etf_portfolio_returns` DataFrame to calculate the annualized returns for the portfolio. Display the annualized return value of the ETF portfolio.\n",
    "\n",
    "> **Hint**  To calculate the annualized returns, multiply the mean of the `etf_portfolio_returns` values by 252.\n",
    ">\n",
    "> To convert the decimal values to percentages, multiply the results by 100.\n",
    "\n",
    "4. Use the average daily returns in the `etf_portfolio_returns` DataFrame to calculate the cumulative returns of the ETF portfolio.\n",
    "\n",
    "5. Using hvPlot, create an interactive line plot that visualizes the cumulative return values of the ETF portfolio. Reflect the “time” column of the DataFrame on the x-axis. Make sure that you professionally style and format your visualization to enhance its readability.\n"
   ]
  },
  {
   "cell_type": "markdown",
   "metadata": {},
   "source": [
    "### Step 1: Write a SQL query to join each table in the portfolio into a single DataFrame. To do so, complete the following steps:\n",
    "\n",
    "    - Use a SQL inner join to join each table on the “time” column. Access the “time” column in the `GDOT` table via the `GDOT.time` syntax. Access the “time” columns from the other tables via similar syntax.\n",
    "\n",
    "    - Using the SQL query, read the data from the database into a Pandas DataFrame. Review the resulting DataFrame."
   ]
  },
  {
   "cell_type": "code",
   "execution_count": 423,
   "metadata": {
    "scrolled": true
   },
   "outputs": [
    {
     "data": {
      "text/html": [
       "<div>\n",
       "<style scoped>\n",
       "    .dataframe tbody tr th:only-of-type {\n",
       "        vertical-align: middle;\n",
       "    }\n",
       "\n",
       "    .dataframe tbody tr th {\n",
       "        vertical-align: top;\n",
       "    }\n",
       "\n",
       "    .dataframe thead th {\n",
       "        text-align: right;\n",
       "    }\n",
       "</style>\n",
       "<table border=\"1\" class=\"dataframe\">\n",
       "  <thead>\n",
       "    <tr style=\"text-align: right;\">\n",
       "      <th></th>\n",
       "      <th>gd_daily_returns</th>\n",
       "      <th>gs_daily_returns</th>\n",
       "      <th>py_daily_returns</th>\n",
       "      <th>sq_daily_returns</th>\n",
       "    </tr>\n",
       "    <tr>\n",
       "      <th>time</th>\n",
       "      <th></th>\n",
       "      <th></th>\n",
       "      <th></th>\n",
       "      <th></th>\n",
       "    </tr>\n",
       "  </thead>\n",
       "  <tbody>\n",
       "    <tr>\n",
       "      <th>2016-12-16</th>\n",
       "      <td>-0.023218</td>\n",
       "      <td>-0.016708</td>\n",
       "      <td>-0.005564</td>\n",
       "      <td>0.017339</td>\n",
       "    </tr>\n",
       "    <tr>\n",
       "      <th>2016-12-19</th>\n",
       "      <td>-0.007923</td>\n",
       "      <td>0.000795</td>\n",
       "      <td>0.003306</td>\n",
       "      <td>-0.001043</td>\n",
       "    </tr>\n",
       "    <tr>\n",
       "      <th>2016-12-20</th>\n",
       "      <td>0.001261</td>\n",
       "      <td>0.016602</td>\n",
       "      <td>0.007351</td>\n",
       "      <td>0.009053</td>\n",
       "    </tr>\n",
       "    <tr>\n",
       "      <th>2016-12-21</th>\n",
       "      <td>0.001679</td>\n",
       "      <td>-0.006911</td>\n",
       "      <td>0.008807</td>\n",
       "      <td>-0.007591</td>\n",
       "    </tr>\n",
       "    <tr>\n",
       "      <th>2016-12-22</th>\n",
       "      <td>0.006077</td>\n",
       "      <td>-0.005178</td>\n",
       "      <td>-0.010227</td>\n",
       "      <td>-0.023644</td>\n",
       "    </tr>\n",
       "  </tbody>\n",
       "</table>\n",
       "</div>"
      ],
      "text/plain": [
       "            gd_daily_returns  gs_daily_returns  py_daily_returns  \\\n",
       "time                                                               \n",
       "2016-12-16         -0.023218         -0.016708         -0.005564   \n",
       "2016-12-19         -0.007923          0.000795          0.003306   \n",
       "2016-12-20          0.001261          0.016602          0.007351   \n",
       "2016-12-21          0.001679         -0.006911          0.008807   \n",
       "2016-12-22          0.006077         -0.005178         -0.010227   \n",
       "\n",
       "            sq_daily_returns  \n",
       "time                          \n",
       "2016-12-16          0.017339  \n",
       "2016-12-19         -0.001043  \n",
       "2016-12-20          0.009053  \n",
       "2016-12-21         -0.007591  \n",
       "2016-12-22         -0.023644  "
      ]
     },
     "execution_count": 423,
     "metadata": {},
     "output_type": "execute_result"
    }
   ],
   "source": [
    "# Wreate a SQL query to join each table in the portfolio into a single DataFrame \n",
    "# Use the time column from each table as the basis for the join\n",
    "\n",
    "# NOTE TO GRADER: the later portions of this drill seemed based on the daily_returns columm. Instead of \n",
    "# re-aliasing everything or dropping columns, I'm just re-aliasing what we really need.\n",
    "query = \"\"\"\n",
    "SELECT gd.time as time, gd.daily_returns as gd_daily_returns,\n",
    "gs.daily_returns as gs_daily_returns,\n",
    "py.daily_returns as py_daily_returns,\n",
    "sq.daily_returns as sq_daily_returns\n",
    "FROM GDOT as gd \n",
    "join GS as gs ON gd.time=gs.time\n",
    "join PYPL as py ON gd.time=py.time\n",
    "join SQ as sq ON gd.time=sq.time\n",
    "\n",
    "\"\"\"\n",
    "\n",
    "# Using the query, read the data from the database into a Pandas DataFrame\n",
    "etf_portfolio = pd.read_sql_query(query, engine, index_col=\"time\", parse_dates=\"time\")\n",
    "\"\"\"\n",
    "def formatTime(time):\n",
    "    return datetime.strptime(time.split(\" \")[0], '%Y-%m-%d')\n",
    "\n",
    "etf_portfolio['time'] = etf_portfolio['time'].apply(formatTime)\n",
    "etf_portfolio.set_index('time', inplace=True)\n",
    "\"\"\"\n",
    "\n",
    "# Review the resulting DataFrame\n",
    "etf_portfolio.head()\n"
   ]
  },
  {
   "cell_type": "markdown",
   "metadata": {},
   "source": [
    "### Step 2: Create a DataFrame that averages the “daily_returns” columns for all four assets. Review the resulting DataFrame."
   ]
  },
  {
   "cell_type": "code",
   "execution_count": 424,
   "metadata": {
    "scrolled": true
   },
   "outputs": [
    {
     "data": {
      "text/plain": [
       "time\n",
       "2016-12-16   -0.001644\n",
       "2016-12-19    0.001019\n",
       "2016-12-20    0.011002\n",
       "2016-12-21   -0.001898\n",
       "2016-12-22   -0.013016\n",
       "dtype: float64"
      ]
     },
     "execution_count": 424,
     "metadata": {},
     "output_type": "execute_result"
    }
   ],
   "source": [
    "# Create a DataFrame that displays the mean value of the “daily_returns” columns for all four assets.\n",
    "etf_portfolio_returns = etf_portfolio.iloc[:,1:4].mean(axis=1)\n",
    "etf_portfolio_returns.head()\n"
   ]
  },
  {
   "cell_type": "markdown",
   "metadata": {},
   "source": [
    "### Step 3: Use the average daily returns in the etf_portfolio_returns DataFrame to calculate the annualized returns for the portfolio. Display the annualized return value of the ETF portfolio."
   ]
  },
  {
   "cell_type": "code",
   "execution_count": 425,
   "metadata": {},
   "outputs": [
    {
     "data": {
      "text/plain": [
       "'These are annualized returns that makes sense to me:'"
      ]
     },
     "metadata": {},
     "output_type": "display_data"
    },
    {
     "data": {
      "text/plain": [
       "time\n",
       "2016   -0.016494\n",
       "2017    0.581398\n",
       "2018    0.143540\n",
       "2019    0.282423\n",
       "2020    0.824984\n",
       "dtype: float64"
      ]
     },
     "metadata": {},
     "output_type": "display_data"
    },
    {
     "data": {
      "text/plain": [
       "'These are annualized returns based on the hint above:'"
      ]
     },
     "metadata": {},
     "output_type": "display_data"
    },
    {
     "data": {
      "text/plain": [
       "45.805260951972826"
      ]
     },
     "metadata": {},
     "output_type": "display_data"
    }
   ],
   "source": [
    "# Use the average daily returns provided by the etf_portfolio_returns DataFrame \n",
    "# to calculate the annualized return for the portfolio. \n",
    "\n",
    "_annualized_etf_portfolio_returns = etf_portfolio_returns.groupby(etf_portfolio_returns.index.year).sum()\n",
    "\n",
    "# Display the annualized return value of the ETF portfolio.\n",
    "display(\"These are annualized returns that makes sense to me:\", _annualized_etf_portfolio_returns)\n",
    "\n",
    "\n",
    "# this is the way that was instructed..\n",
    "annualized_etf_portfolio_returns = (etf_portfolio_returns.mean() * 252) * 100\n",
    "\n",
    "display(\"These are annualized returns based on the hint above:\", annualized_etf_portfolio_returns)\n"
   ]
  },
  {
   "cell_type": "markdown",
   "metadata": {},
   "source": [
    "### Step 4: Use the average daily returns in the `etf_portfolio_returns` DataFrame to calculate the cumulative returns of the ETF portfolio."
   ]
  },
  {
   "cell_type": "code",
   "execution_count": 421,
   "metadata": {},
   "outputs": [
    {
     "data": {
      "text/plain": [
       "time\n",
       "2016-12-16    0.998356\n",
       "2016-12-19    0.999373\n",
       "2016-12-20    1.010368\n",
       "2016-12-21    1.008450\n",
       "2016-12-22    0.995324\n",
       "                ...   \n",
       "2020-11-30    4.803427\n",
       "2020-12-01    4.770694\n",
       "2020-12-02    4.774153\n",
       "2020-12-03    4.801941\n",
       "2020-12-04    4.857280\n",
       "Length: 999, dtype: float64"
      ]
     },
     "execution_count": 421,
     "metadata": {},
     "output_type": "execute_result"
    }
   ],
   "source": [
    "# Use the average daily returns provided by the etf_portfolio_returns DataFrame \n",
    "# to calculate the cumulative returns\n",
    "\n",
    "etf_cumulative_returns =(1 + etf_portfolio_returns).cumprod()\n",
    "type(etf_cumulative_returns)\n",
    "# Display the final cumulative return value\n",
    "etf_cumulative_returns\n"
   ]
  },
  {
   "cell_type": "markdown",
   "metadata": {},
   "source": [
    "### Step 5: Using hvPlot, create an interactive line plot that visualizes the cumulative return values of the ETF portfolio. Reflect the “time” column of the DataFrame on the x-axis. Make sure that you professionally style and format your visualization to enhance its readability."
   ]
  },
  {
   "cell_type": "code",
   "execution_count": 422,
   "metadata": {},
   "outputs": [
    {
     "data": {},
     "metadata": {},
     "output_type": "display_data"
    },
    {
     "data": {
      "application/vnd.holoviews_exec.v0+json": "",
      "text/html": [
       "<div id='26949'>\n",
       "\n",
       "\n",
       "\n",
       "\n",
       "\n",
       "  <div class=\"bk-root\" id=\"672b6f60-20d8-46f2-92fc-c483499c86f9\" data-root-id=\"26949\"></div>\n",
       "</div>\n",
       "<script type=\"application/javascript\">(function(root) {\n",
       "  function embed_document(root) {\n",
       "    var docs_json = {\"2fd97a83-ae8f-4483-83d1-aab6086eecd6\":{\"defs\":[{\"extends\":null,\"module\":null,\"name\":\"ReactiveHTML1\",\"overrides\":[],\"properties\":[]},{\"extends\":null,\"module\":null,\"name\":\"FlexBox1\",\"overrides\":[],\"properties\":[{\"default\":\"flex-start\",\"kind\":null,\"name\":\"align_content\"},{\"default\":\"flex-start\",\"kind\":null,\"name\":\"align_items\"},{\"default\":\"row\",\"kind\":null,\"name\":\"flex_direction\"},{\"default\":\"wrap\",\"kind\":null,\"name\":\"flex_wrap\"},{\"default\":\"flex-start\",\"kind\":null,\"name\":\"justify_content\"}]},{\"extends\":null,\"module\":null,\"name\":\"TemplateActions1\",\"overrides\":[],\"properties\":[{\"default\":0,\"kind\":null,\"name\":\"open_modal\"},{\"default\":0,\"kind\":null,\"name\":\"close_modal\"}]},{\"extends\":null,\"module\":null,\"name\":\"MaterialTemplateActions1\",\"overrides\":[],\"properties\":[{\"default\":0,\"kind\":null,\"name\":\"open_modal\"},{\"default\":0,\"kind\":null,\"name\":\"close_modal\"}]}],\"roots\":{\"references\":[{\"attributes\":{\"axis\":{\"id\":\"26967\"},\"coordinates\":null,\"dimension\":1,\"grid_line_color\":null,\"group\":null,\"ticker\":null},\"id\":\"26970\",\"type\":\"Grid\"},{\"attributes\":{\"line_alpha\":0.1,\"line_color\":\"#30a2da\",\"line_width\":2,\"x\":{\"field\":\"time\"},\"y\":{\"field\":\"0\"}},\"id\":\"26988\",\"type\":\"Line\"},{\"attributes\":{},\"id\":\"26968\",\"type\":\"BasicTicker\"},{\"attributes\":{},\"id\":\"26973\",\"type\":\"WheelZoomTool\"},{\"attributes\":{\"line_color\":\"#30a2da\",\"line_width\":2,\"x\":{\"field\":\"time\"},\"y\":{\"field\":\"0\"}},\"id\":\"26987\",\"type\":\"Line\"},{\"attributes\":{\"margin\":[5,5,5,5],\"name\":\"HSpacer44338\",\"sizing_mode\":\"stretch_width\"},\"id\":\"27020\",\"type\":\"Spacer\"},{\"attributes\":{\"coordinates\":null,\"data_source\":{\"id\":\"26984\"},\"glyph\":{\"id\":\"26987\"},\"group\":null,\"hover_glyph\":null,\"muted_glyph\":{\"id\":\"26989\"},\"nonselection_glyph\":{\"id\":\"26988\"},\"selection_glyph\":{\"id\":\"26992\"},\"view\":{\"id\":\"26991\"}},\"id\":\"26990\",\"type\":\"GlyphRenderer\"},{\"attributes\":{},\"id\":\"26971\",\"type\":\"SaveTool\"},{\"attributes\":{\"line_alpha\":0.2,\"line_color\":\"#30a2da\",\"line_width\":2,\"x\":{\"field\":\"time\"},\"y\":{\"field\":\"0\"}},\"id\":\"26989\",\"type\":\"Line\"},{\"attributes\":{\"overlay\":{\"id\":\"26976\"}},\"id\":\"26974\",\"type\":\"BoxZoomTool\"},{\"attributes\":{\"data\":{\"0\":{\"__ndarray__\":\"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\",\"dtype\":\"float64\",\"order\":\"little\",\"shape\":[999]},\"A_0\":{\"__ndarray__\":\"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\",\"dtype\":\"float64\",\"order\":\"little\",\"shape\":[999]},\"time\":{\"__ndarray__\":\"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\",\"dtype\":\"float64\",\"order\":\"little\",\"shape\":[999]}},\"selected\":{\"id\":\"26985\"},\"selection_policy\":{\"id\":\"27008\"}},\"id\":\"26984\",\"type\":\"ColumnDataSource\"},{\"attributes\":{\"margin\":[5,5,5,5],\"name\":\"HSpacer44337\",\"sizing_mode\":\"stretch_width\"},\"id\":\"26950\",\"type\":\"Spacer\"},{\"attributes\":{},\"id\":\"26975\",\"type\":\"ResetTool\"},{\"attributes\":{\"axis\":{\"id\":\"26963\"},\"coordinates\":null,\"grid_line_color\":null,\"group\":null,\"ticker\":null},\"id\":\"26966\",\"type\":\"Grid\"},{\"attributes\":{\"source\":{\"id\":\"26984\"}},\"id\":\"26991\",\"type\":\"CDSView\"},{\"attributes\":{\"line_color\":\"#30a2da\",\"line_width\":2,\"x\":{\"field\":\"time\"},\"y\":{\"field\":\"0\"}},\"id\":\"26992\",\"type\":\"Line\"},{\"attributes\":{\"bottom_units\":\"screen\",\"coordinates\":null,\"fill_alpha\":0.5,\"fill_color\":\"lightgrey\",\"group\":null,\"left_units\":\"screen\",\"level\":\"overlay\",\"line_alpha\":1.0,\"line_color\":\"black\",\"line_dash\":[4,4],\"line_width\":2,\"right_units\":\"screen\",\"syncable\":false,\"top_units\":\"screen\"},\"id\":\"26976\",\"type\":\"BoxAnnotation\"},{\"attributes\":{},\"id\":\"26995\",\"type\":\"DatetimeTickFormatter\"},{\"attributes\":{\"tools\":[{\"id\":\"26953\"},{\"id\":\"26971\"},{\"id\":\"26972\"},{\"id\":\"26973\"},{\"id\":\"26974\"},{\"id\":\"26975\"}]},\"id\":\"26977\",\"type\":\"Toolbar\"},{\"attributes\":{},\"id\":\"26985\",\"type\":\"Selection\"},{\"attributes\":{\"desired_num_ticks\":20},\"id\":\"26993\",\"type\":\"BasicTicker\"},{\"attributes\":{},\"id\":\"26996\",\"type\":\"AllLabels\"},{\"attributes\":{\"axis_label\":\"Cumulative Returns\",\"coordinates\":null,\"formatter\":{\"id\":\"27000\"},\"group\":null,\"major_label_policy\":{\"id\":\"27001\"},\"ticker\":{\"id\":\"26968\"}},\"id\":\"26967\",\"type\":\"LinearAxis\"},{\"attributes\":{\"callback\":null,\"formatters\":{\"$x\":\"datetime\"},\"renderers\":[{\"id\":\"26990\"}],\"tooltips\":[[\"Date\",\"$x{%m/%d/%y}\"],[\"Return\",\"$y\"]]},\"id\":\"26953\",\"type\":\"HoverTool\"},{\"attributes\":{},\"id\":\"27001\",\"type\":\"AllLabels\"},{\"attributes\":{},\"id\":\"27008\",\"type\":\"UnionRenderers\"},{\"attributes\":{\"end\":1607040000000.0,\"reset_end\":1607040000000.0,\"reset_start\":1481846400000.0,\"start\":1481846400000.0,\"tags\":[[[\"time\",\"time\",null]]]},\"id\":\"26951\",\"type\":\"Range1d\"},{\"attributes\":{},\"id\":\"26959\",\"type\":\"LinearScale\"},{\"attributes\":{\"children\":[{\"id\":\"26950\"},{\"id\":\"26954\"},{\"id\":\"27020\"}],\"margin\":[0,0,0,0],\"name\":\"Row44333\",\"tags\":[\"embedded\"]},\"id\":\"26949\",\"type\":\"Row\"},{\"attributes\":{},\"id\":\"26961\",\"type\":\"LinearScale\"},{\"attributes\":{\"coordinates\":null,\"group\":null,\"text\":\"ETF Cumulative Returns\",\"text_color\":\"black\",\"text_font_size\":\"12pt\"},\"id\":\"26955\",\"type\":\"Title\"},{\"attributes\":{\"end\":5.249304761407887,\"reset_end\":5.249304761407887,\"reset_start\":0.5956559593137708,\"start\":0.5956559593137708,\"tags\":[[[\"0\",\"0\",null]]]},\"id\":\"26952\",\"type\":\"Range1d\"},{\"attributes\":{},\"id\":\"27000\",\"type\":\"BasicTickFormatter\"},{\"attributes\":{\"axis_label\":\"Time\",\"coordinates\":null,\"formatter\":{\"id\":\"26995\"},\"group\":null,\"major_label_orientation\":0.7853981633974483,\"major_label_policy\":{\"id\":\"26996\"},\"ticker\":{\"id\":\"26993\"}},\"id\":\"26963\",\"type\":\"DatetimeAxis\"},{\"attributes\":{\"below\":[{\"id\":\"26963\"}],\"center\":[{\"id\":\"26966\"},{\"id\":\"26970\"}],\"frame_height\":500,\"frame_width\":1000,\"height\":null,\"left\":[{\"id\":\"26967\"}],\"margin\":[5,5,5,5],\"min_border_bottom\":10,\"min_border_left\":10,\"min_border_right\":10,\"min_border_top\":10,\"renderers\":[{\"id\":\"26990\"}],\"sizing_mode\":\"fixed\",\"title\":{\"id\":\"26955\"},\"toolbar\":{\"id\":\"26977\"},\"width\":null,\"x_range\":{\"id\":\"26951\"},\"x_scale\":{\"id\":\"26959\"},\"y_range\":{\"id\":\"26952\"},\"y_scale\":{\"id\":\"26961\"}},\"id\":\"26954\",\"subtype\":\"Figure\",\"type\":\"Plot\"},{\"attributes\":{},\"id\":\"26972\",\"type\":\"PanTool\"}],\"root_ids\":[\"26949\"]},\"title\":\"Bokeh Application\",\"version\":\"2.4.1\"}};\n",
       "    var render_items = [{\"docid\":\"2fd97a83-ae8f-4483-83d1-aab6086eecd6\",\"root_ids\":[\"26949\"],\"roots\":{\"26949\":\"672b6f60-20d8-46f2-92fc-c483499c86f9\"}}];\n",
       "    root.Bokeh.embed.embed_items_notebook(docs_json, render_items);\n",
       "  }\n",
       "  if (root.Bokeh !== undefined && root.Bokeh.Panel !== undefined) {\n",
       "    embed_document(root);\n",
       "  } else {\n",
       "    var attempts = 0;\n",
       "    var timer = setInterval(function(root) {\n",
       "      if (root.Bokeh !== undefined && root.Bokeh.Panel !== undefined) {\n",
       "        clearInterval(timer);\n",
       "        embed_document(root);\n",
       "      } else if (document.readyState == \"complete\") {\n",
       "        attempts++;\n",
       "        if (attempts > 200) {\n",
       "          clearInterval(timer);\n",
       "          console.log(\"Bokeh: ERROR: Unable to run BokehJS code because BokehJS library is missing\");\n",
       "        }\n",
       "      }\n",
       "    }, 25, root)\n",
       "  }\n",
       "})(window);</script>"
      ],
      "text/plain": [
       ":Curve   [time]   (0)"
      ]
     },
     "execution_count": 422,
     "metadata": {
      "application/vnd.holoviews_exec.v0+json": {
       "id": "26949"
      }
     },
     "output_type": "execute_result"
    }
   ],
   "source": [
    "# Using hvplot, create an interactive line plot that visualizes the ETF portfolios cumulative return values.\n",
    "\n",
    "hover = HoverTool(tooltips=[(\"Date\",  \"$x{%m/%d/%y}\"),(\"Return\", \"$y\") ],\n",
    "                  formatters = { '$x': 'datetime' } )\n",
    "\n",
    "etf_cumulative_returns.hvplot.line(x=\"time\", xlabel=\"Time\", ylabel=\"Cumulative Returns\", rot=45, xticks=20, \n",
    "                                   legend=True, frame_width=1000, frame_height=500, title=\"ETF Cumulative Returns\" ).opts( tools=[hover] )\n"
   ]
  },
  {
   "cell_type": "code",
   "execution_count": null,
   "metadata": {},
   "outputs": [],
   "source": []
  }
 ],
 "metadata": {
  "kernelspec": {
   "display_name": "dev",
   "language": "python",
   "name": "dev"
  },
  "language_info": {
   "codemirror_mode": {
    "name": "ipython",
    "version": 3
   },
   "file_extension": ".py",
   "mimetype": "text/x-python",
   "name": "python",
   "nbconvert_exporter": "python",
   "pygments_lexer": "ipython3",
   "version": "3.9.7"
  }
 },
 "nbformat": 4,
 "nbformat_minor": 4
}
